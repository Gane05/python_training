{
 "cells": [
  {
   "cell_type": "code",
   "execution_count": null,
   "id": "3b2364a9-08f3-4e30-b463-3487b39dd8c9",
   "metadata": {},
   "outputs": [
    {
     "name": "stdout",
     "output_type": "stream",
     "text": [
      ". . . . . . . . 🍉 . \n",
      ". . . . . . . . . . \n",
      ". . . . . . . . . . \n",
      ". . . . . . . . . . \n",
      ". . . . . . . . . . \n",
      ". . . . . 🐍 . . . . \n",
      ". . . . . . . . . . \n",
      ". . . . . . . . . . \n",
      ". . . . . . . . . . \n",
      ". . . . . . . . . . \n",
      "\n",
      "SCORE: 0\n"
     ]
    },
    {
     "name": "stdin",
     "output_type": "stream",
     "text": [
      "ENTER DIRECTION (UP/DOWN/LEFT/RIGHT): u\n"
     ]
    },
    {
     "name": "stdout",
     "output_type": "stream",
     "text": [
      ". . . . . . . . 🍉 . \n",
      ". . . . . . . . . . \n",
      ". . . . . . . . . . \n",
      ". . . . . . . . . . \n",
      ". . . . . 🐍 . . . . \n",
      ". . . . . . . . . . \n",
      ". . . . . . . . . . \n",
      ". . . . . . . . . . \n",
      ". . . . . . . . . . \n",
      ". . . . . . . . . . \n",
      "\n",
      "SCORE: 0\n"
     ]
    },
    {
     "name": "stdin",
     "output_type": "stream",
     "text": [
      "ENTER DIRECTION (UP/DOWN/LEFT/RIGHT): u\n"
     ]
    },
    {
     "name": "stdout",
     "output_type": "stream",
     "text": [
      ". . . . . . . . 🍉 . \n",
      ". . . . . . . . . . \n",
      ". . . . . . . . . . \n",
      ". . . . . 🐍 . . . . \n",
      ". . . . . . . . . . \n",
      ". . . . . . . . . . \n",
      ". . . . . . . . . . \n",
      ". . . . . . . . . . \n",
      ". . . . . . . . . . \n",
      ". . . . . . . . . . \n",
      "\n",
      "SCORE: 0\n"
     ]
    },
    {
     "name": "stdin",
     "output_type": "stream",
     "text": [
      "ENTER DIRECTION (UP/DOWN/LEFT/RIGHT): u\n"
     ]
    },
    {
     "name": "stdout",
     "output_type": "stream",
     "text": [
      ". . . . . . . . 🍉 . \n",
      ". . . . . . . . . . \n",
      ". . . . . 🐍 . . . . \n",
      ". . . . . . . . . . \n",
      ". . . . . . . . . . \n",
      ". . . . . . . . . . \n",
      ". . . . . . . . . . \n",
      ". . . . . . . . . . \n",
      ". . . . . . . . . . \n",
      ". . . . . . . . . . \n",
      "\n",
      "SCORE: 0\n"
     ]
    },
    {
     "name": "stdin",
     "output_type": "stream",
     "text": [
      "ENTER DIRECTION (UP/DOWN/LEFT/RIGHT): u\n"
     ]
    },
    {
     "name": "stdout",
     "output_type": "stream",
     "text": [
      ". . . . . . . . 🍉 . \n",
      ". . . . . 🐍 . . . . \n",
      ". . . . . . . . . . \n",
      ". . . . . . . . . . \n",
      ". . . . . . . . . . \n",
      ". . . . . . . . . . \n",
      ". . . . . . . . . . \n",
      ". . . . . . . . . . \n",
      ". . . . . . . . . . \n",
      ". . . . . . . . . . \n",
      "\n",
      "SCORE: 0\n"
     ]
    },
    {
     "name": "stdin",
     "output_type": "stream",
     "text": [
      "ENTER DIRECTION (UP/DOWN/LEFT/RIGHT): u\n"
     ]
    },
    {
     "name": "stdout",
     "output_type": "stream",
     "text": [
      ". . . . . 🐍 . . 🍉 . \n",
      ". . . . . . . . . . \n",
      ". . . . . . . . . . \n",
      ". . . . . . . . . . \n",
      ". . . . . . . . . . \n",
      ". . . . . . . . . . \n",
      ". . . . . . . . . . \n",
      ". . . . . . . . . . \n",
      ". . . . . . . . . . \n",
      ". . . . . . . . . . \n",
      "\n",
      "SCORE: 0\n"
     ]
    },
    {
     "name": "stdin",
     "output_type": "stream",
     "text": [
      "ENTER DIRECTION (UP/DOWN/LEFT/RIGHT): r\n"
     ]
    },
    {
     "name": "stdout",
     "output_type": "stream",
     "text": [
      ". . . . . . 🐍 . 🍉 . \n",
      ". . . . . . . . . . \n",
      ". . . . . . . . . . \n",
      ". . . . . . . . . . \n",
      ". . . . . . . . . . \n",
      ". . . . . . . . . . \n",
      ". . . . . . . . . . \n",
      ". . . . . . . . . . \n",
      ". . . . . . . . . . \n",
      ". . . . . . . . . . \n",
      "\n",
      "SCORE: 0\n"
     ]
    },
    {
     "name": "stdin",
     "output_type": "stream",
     "text": [
      "ENTER DIRECTION (UP/DOWN/LEFT/RIGHT): r\n"
     ]
    },
    {
     "name": "stdout",
     "output_type": "stream",
     "text": [
      ". . . . . . . 🐍 🍉 . \n",
      ". . . . . . . . . . \n",
      ". . . . . . . . . . \n",
      ". . . . . . . . . . \n",
      ". . . . . . . . . . \n",
      ". . . . . . . . . . \n",
      ". . . . . . . . . . \n",
      ". . . . . . . . . . \n",
      ". . . . . . . . . . \n",
      ". . . . . . . . . . \n",
      "\n",
      "SCORE: 0\n"
     ]
    },
    {
     "name": "stdin",
     "output_type": "stream",
     "text": [
      "ENTER DIRECTION (UP/DOWN/LEFT/RIGHT): r\n"
     ]
    },
    {
     "name": "stdout",
     "output_type": "stream",
     "text": [
      ". . . . . . . 🐍 🐍 . \n",
      ". . . . . . . . . . \n",
      ". . . . . . 🍉 . . . \n",
      ". . . . . . . . . . \n",
      ". . . . . . . . . . \n",
      ". . . . . . . . . . \n",
      ". . . . . . . . . . \n",
      ". . . . . . . . . . \n",
      ". . . . . . . . . . \n",
      ". . . . . . . . . . \n",
      "\n",
      "SCORE: 1\n"
     ]
    },
    {
     "name": "stdin",
     "output_type": "stream",
     "text": [
      "ENTER DIRECTION (UP/DOWN/LEFT/RIGHT): d\n"
     ]
    },
    {
     "name": "stdout",
     "output_type": "stream",
     "text": [
      ". . . . . . . . 🐍 . \n",
      ". . . . . . . . 🐍 . \n",
      ". . . . . . 🍉 . . . \n",
      ". . . . . . . . . . \n",
      ". . . . . . . . . . \n",
      ". . . . . . . . . . \n",
      ". . . . . . . . . . \n",
      ". . . . . . . . . . \n",
      ". . . . . . . . . . \n",
      ". . . . . . . . . . \n",
      "\n",
      "SCORE: 1\n"
     ]
    },
    {
     "name": "stdin",
     "output_type": "stream",
     "text": [
      "ENTER DIRECTION (UP/DOWN/LEFT/RIGHT): d\n"
     ]
    },
    {
     "name": "stdout",
     "output_type": "stream",
     "text": [
      ". . . . . . . . . . \n",
      ". . . . . . . . 🐍 . \n",
      ". . . . . . 🍉 . 🐍 . \n",
      ". . . . . . . . . . \n",
      ". . . . . . . . . . \n",
      ". . . . . . . . . . \n",
      ". . . . . . . . . . \n",
      ". . . . . . . . . . \n",
      ". . . . . . . . . . \n",
      ". . . . . . . . . . \n",
      "\n",
      "SCORE: 1\n"
     ]
    },
    {
     "name": "stdin",
     "output_type": "stream",
     "text": [
      "ENTER DIRECTION (UP/DOWN/LEFT/RIGHT): l\n"
     ]
    },
    {
     "name": "stdout",
     "output_type": "stream",
     "text": [
      ". . . . . . . . . . \n",
      ". . . . . . . . . . \n",
      ". . . . . . 🍉 🐍 🐍 . \n",
      ". . . . . . . . . . \n",
      ". . . . . . . . . . \n",
      ". . . . . . . . . . \n",
      ". . . . . . . . . . \n",
      ". . . . . . . . . . \n",
      ". . . . . . . . . . \n",
      ". . . . . . . . . . \n",
      "\n",
      "SCORE: 1\n"
     ]
    },
    {
     "name": "stdin",
     "output_type": "stream",
     "text": [
      "ENTER DIRECTION (UP/DOWN/LEFT/RIGHT): l\n"
     ]
    },
    {
     "name": "stdout",
     "output_type": "stream",
     "text": [
      ". . . . . . . . . . \n",
      ". . . . . . . . . . \n",
      ". . . . . . 🐍 🐍 🐍 . \n",
      ". . . . . . . . . . \n",
      ". . . . . . . . . . \n",
      ". 🍉 . . . . . . . . \n",
      ". . . . . . . . . . \n",
      ". . . . . . . . . . \n",
      ". . . . . . . . . . \n",
      ". . . . . . . . . . \n",
      "\n",
      "SCORE: 2\n"
     ]
    },
    {
     "name": "stdin",
     "output_type": "stream",
     "text": [
      "ENTER DIRECTION (UP/DOWN/LEFT/RIGHT): l\n"
     ]
    },
    {
     "name": "stdout",
     "output_type": "stream",
     "text": [
      ". . . . . . . . . . \n",
      ". . . . . . . . . . \n",
      ". . . . . 🐍 🐍 🐍 . . \n",
      ". . . . . . . . . . \n",
      ". . . . . . . . . . \n",
      ". 🍉 . . . . . . . . \n",
      ". . . . . . . . . . \n",
      ". . . . . . . . . . \n",
      ". . . . . . . . . . \n",
      ". . . . . . . . . . \n",
      "\n",
      "SCORE: 2\n"
     ]
    },
    {
     "name": "stdin",
     "output_type": "stream",
     "text": [
      "ENTER DIRECTION (UP/DOWN/LEFT/RIGHT): l\n"
     ]
    },
    {
     "name": "stdout",
     "output_type": "stream",
     "text": [
      ". . . . . . . . . . \n",
      ". . . . . . . . . . \n",
      ". . . . 🐍 🐍 🐍 . . . \n",
      ". . . . . . . . . . \n",
      ". . . . . . . . . . \n",
      ". 🍉 . . . . . . . . \n",
      ". . . . . . . . . . \n",
      ". . . . . . . . . . \n",
      ". . . . . . . . . . \n",
      ". . . . . . . . . . \n",
      "\n",
      "SCORE: 2\n"
     ]
    },
    {
     "name": "stdin",
     "output_type": "stream",
     "text": [
      "ENTER DIRECTION (UP/DOWN/LEFT/RIGHT): l\n"
     ]
    },
    {
     "name": "stdout",
     "output_type": "stream",
     "text": [
      ". . . . . . . . . . \n",
      ". . . . . . . . . . \n",
      ". . . 🐍 🐍 🐍 . . . . \n",
      ". . . . . . . . . . \n",
      ". . . . . . . . . . \n",
      ". 🍉 . . . . . . . . \n",
      ". . . . . . . . . . \n",
      ". . . . . . . . . . \n",
      ". . . . . . . . . . \n",
      ". . . . . . . . . . \n",
      "\n",
      "SCORE: 2\n"
     ]
    },
    {
     "name": "stdin",
     "output_type": "stream",
     "text": [
      "ENTER DIRECTION (UP/DOWN/LEFT/RIGHT): l\n"
     ]
    },
    {
     "name": "stdout",
     "output_type": "stream",
     "text": [
      ". . . . . . . . . . \n",
      ". . . . . . . . . . \n",
      ". . 🐍 🐍 🐍 . . . . . \n",
      ". . . . . . . . . . \n",
      ". . . . . . . . . . \n",
      ". 🍉 . . . . . . . . \n",
      ". . . . . . . . . . \n",
      ". . . . . . . . . . \n",
      ". . . . . . . . . . \n",
      ". . . . . . . . . . \n",
      "\n",
      "SCORE: 2\n"
     ]
    },
    {
     "name": "stdin",
     "output_type": "stream",
     "text": [
      "ENTER DIRECTION (UP/DOWN/LEFT/RIGHT): l\n"
     ]
    },
    {
     "name": "stdout",
     "output_type": "stream",
     "text": [
      ". . . . . . . . . . \n",
      ". . . . . . . . . . \n",
      ". 🐍 🐍 🐍 . . . . . . \n",
      ". . . . . . . . . . \n",
      ". . . . . . . . . . \n",
      ". 🍉 . . . . . . . . \n",
      ". . . . . . . . . . \n",
      ". . . . . . . . . . \n",
      ". . . . . . . . . . \n",
      ". . . . . . . . . . \n",
      "\n",
      "SCORE: 2\n"
     ]
    },
    {
     "name": "stdin",
     "output_type": "stream",
     "text": [
      "ENTER DIRECTION (UP/DOWN/LEFT/RIGHT): d\n"
     ]
    },
    {
     "name": "stdout",
     "output_type": "stream",
     "text": [
      ". . . . . . . . . . \n",
      ". . . . . . . . . . \n",
      ". 🐍 🐍 . . . . . . . \n",
      ". 🐍 . . . . . . . . \n",
      ". . . . . . . . . . \n",
      ". 🍉 . . . . . . . . \n",
      ". . . . . . . . . . \n",
      ". . . . . . . . . . \n",
      ". . . . . . . . . . \n",
      ". . . . . . . . . . \n",
      "\n",
      "SCORE: 2\n"
     ]
    },
    {
     "name": "stdin",
     "output_type": "stream",
     "text": [
      "ENTER DIRECTION (UP/DOWN/LEFT/RIGHT): d\n"
     ]
    },
    {
     "name": "stdout",
     "output_type": "stream",
     "text": [
      ". . . . . . . . . . \n",
      ". . . . . . . . . . \n",
      ". 🐍 . . . . . . . . \n",
      ". 🐍 . . . . . . . . \n",
      ". 🐍 . . . . . . . . \n",
      ". 🍉 . . . . . . . . \n",
      ". . . . . . . . . . \n",
      ". . . . . . . . . . \n",
      ". . . . . . . . . . \n",
      ". . . . . . . . . . \n",
      "\n",
      "SCORE: 2\n"
     ]
    },
    {
     "name": "stdin",
     "output_type": "stream",
     "text": [
      "ENTER DIRECTION (UP/DOWN/LEFT/RIGHT): d\n"
     ]
    },
    {
     "name": "stdout",
     "output_type": "stream",
     "text": [
      ". . . . . . . . . . \n",
      ". . . . . . . . . . \n",
      ". 🐍 . . . . . . . . \n",
      ". 🐍 . . . . . . . . \n",
      ". 🐍 . . . . . . . . \n",
      ". 🐍 . . . . . . . . \n",
      ". . . . . . . . . . \n",
      ". . . . . . . . . . \n",
      ". . . . . . . . . . \n",
      ". 🍉 . . . . . . . . \n",
      "\n",
      "SCORE: 3\n"
     ]
    },
    {
     "name": "stdin",
     "output_type": "stream",
     "text": [
      "ENTER DIRECTION (UP/DOWN/LEFT/RIGHT): d\n"
     ]
    },
    {
     "name": "stdout",
     "output_type": "stream",
     "text": [
      ". . . . . . . . . . \n",
      ". . . . . . . . . . \n",
      ". . . . . . . . . . \n",
      ". 🐍 . . . . . . . . \n",
      ". 🐍 . . . . . . . . \n",
      ". 🐍 . . . . . . . . \n",
      ". 🐍 . . . . . . . . \n",
      ". . . . . . . . . . \n",
      ". . . . . . . . . . \n",
      ". 🍉 . . . . . . . . \n",
      "\n",
      "SCORE: 3\n"
     ]
    },
    {
     "name": "stdin",
     "output_type": "stream",
     "text": [
      "ENTER DIRECTION (UP/DOWN/LEFT/RIGHT): d\n"
     ]
    },
    {
     "name": "stdout",
     "output_type": "stream",
     "text": [
      ". . . . . . . . . . \n",
      ". . . . . . . . . . \n",
      ". . . . . . . . . . \n",
      ". . . . . . . . . . \n",
      ". 🐍 . . . . . . . . \n",
      ". 🐍 . . . . . . . . \n",
      ". 🐍 . . . . . . . . \n",
      ". 🐍 . . . . . . . . \n",
      ". . . . . . . . . . \n",
      ". 🍉 . . . . . . . . \n",
      "\n",
      "SCORE: 3\n"
     ]
    },
    {
     "name": "stdin",
     "output_type": "stream",
     "text": [
      "ENTER DIRECTION (UP/DOWN/LEFT/RIGHT): d\n"
     ]
    },
    {
     "name": "stdout",
     "output_type": "stream",
     "text": [
      ". . . . . . . . . . \n",
      ". . . . . . . . . . \n",
      ". . . . . . . . . . \n",
      ". . . . . . . . . . \n",
      ". . . . . . . . . . \n",
      ". 🐍 . . . . . . . . \n",
      ". 🐍 . . . . . . . . \n",
      ". 🐍 . . . . . . . . \n",
      ". 🐍 . . . . . . . . \n",
      ". 🍉 . . . . . . . . \n",
      "\n",
      "SCORE: 3\n"
     ]
    },
    {
     "name": "stdin",
     "output_type": "stream",
     "text": [
      "ENTER DIRECTION (UP/DOWN/LEFT/RIGHT): d\n"
     ]
    },
    {
     "name": "stdout",
     "output_type": "stream",
     "text": [
      ". . . . . . . . . . \n",
      ". 🍉 . . . . . . . . \n",
      ". . . . . . . . . . \n",
      ". . . . . . . . . . \n",
      ". . . . . . . . . . \n",
      ". 🐍 . . . . . . . . \n",
      ". 🐍 . . . . . . . . \n",
      ". 🐍 . . . . . . . . \n",
      ". 🐍 . . . . . . . . \n",
      ". 🐍 . . . . . . . . \n",
      "\n",
      "SCORE: 4\n"
     ]
    },
    {
     "name": "stdin",
     "output_type": "stream",
     "text": [
      "ENTER DIRECTION (UP/DOWN/LEFT/RIGHT): r\n"
     ]
    },
    {
     "name": "stdout",
     "output_type": "stream",
     "text": [
      ". . . . . . . . . . \n",
      ". 🍉 . . . . . . . . \n",
      ". . . . . . . . . . \n",
      ". . . . . . . . . . \n",
      ". . . . . . . . . . \n",
      ". . . . . . . . . . \n",
      ". 🐍 . . . . . . . . \n",
      ". 🐍 . . . . . . . . \n",
      ". 🐍 . . . . . . . . \n",
      ". 🐍 🐍 . . . . . . . \n",
      "\n",
      "SCORE: 4\n"
     ]
    },
    {
     "name": "stdin",
     "output_type": "stream",
     "text": [
      "ENTER DIRECTION (UP/DOWN/LEFT/RIGHT): u\n"
     ]
    },
    {
     "name": "stdout",
     "output_type": "stream",
     "text": [
      ". . . . . . . . . . \n",
      ". 🍉 . . . . . . . . \n",
      ". . . . . . . . . . \n",
      ". . . . . . . . . . \n",
      ". . . . . . . . . . \n",
      ". . . . . . . . . . \n",
      ". . . . . . . . . . \n",
      ". 🐍 . . . . . . . . \n",
      ". 🐍 🐍 . . . . . . . \n",
      ". 🐍 🐍 . . . . . . . \n",
      "\n",
      "SCORE: 4\n"
     ]
    },
    {
     "name": "stdin",
     "output_type": "stream",
     "text": [
      "ENTER DIRECTION (UP/DOWN/LEFT/RIGHT): u\n"
     ]
    },
    {
     "name": "stdout",
     "output_type": "stream",
     "text": [
      ". . . . . . . . . . \n",
      ". 🍉 . . . . . . . . \n",
      ". . . . . . . . . . \n",
      ". . . . . . . . . . \n",
      ". . . . . . . . . . \n",
      ". . . . . . . . . . \n",
      ". . . . . . . . . . \n",
      ". . 🐍 . . . . . . . \n",
      ". 🐍 🐍 . . . . . . . \n",
      ". 🐍 🐍 . . . . . . . \n",
      "\n",
      "SCORE: 4\n"
     ]
    },
    {
     "name": "stdin",
     "output_type": "stream",
     "text": [
      "ENTER DIRECTION (UP/DOWN/LEFT/RIGHT): u\n"
     ]
    },
    {
     "name": "stdout",
     "output_type": "stream",
     "text": [
      ". . . . . . . . . . \n",
      ". 🍉 . . . . . . . . \n",
      ". . . . . . . . . . \n",
      ". . . . . . . . . . \n",
      ". . . . . . . . . . \n",
      ". . . . . . . . . . \n",
      ". . 🐍 . . . . . . . \n",
      ". . 🐍 . . . . . . . \n",
      ". . 🐍 . . . . . . . \n",
      ". 🐍 🐍 . . . . . . . \n",
      "\n",
      "SCORE: 4\n"
     ]
    },
    {
     "name": "stdin",
     "output_type": "stream",
     "text": [
      "ENTER DIRECTION (UP/DOWN/LEFT/RIGHT): u\n"
     ]
    },
    {
     "name": "stdout",
     "output_type": "stream",
     "text": [
      ". . . . . . . . . . \n",
      ". 🍉 . . . . . . . . \n",
      ". . . . . . . . . . \n",
      ". . . . . . . . . . \n",
      ". . . . . . . . . . \n",
      ". . 🐍 . . . . . . . \n",
      ". . 🐍 . . . . . . . \n",
      ". . 🐍 . . . . . . . \n",
      ". . 🐍 . . . . . . . \n",
      ". . 🐍 . . . . . . . \n",
      "\n",
      "SCORE: 4\n"
     ]
    },
    {
     "name": "stdin",
     "output_type": "stream",
     "text": [
      "ENTER DIRECTION (UP/DOWN/LEFT/RIGHT): u\n"
     ]
    },
    {
     "name": "stdout",
     "output_type": "stream",
     "text": [
      ". . . . . . . . . . \n",
      ". 🍉 . . . . . . . . \n",
      ". . . . . . . . . . \n",
      ". . . . . . . . . . \n",
      ". . 🐍 . . . . . . . \n",
      ". . 🐍 . . . . . . . \n",
      ". . 🐍 . . . . . . . \n",
      ". . 🐍 . . . . . . . \n",
      ". . 🐍 . . . . . . . \n",
      ". . . . . . . . . . \n",
      "\n",
      "SCORE: 4\n"
     ]
    },
    {
     "name": "stdin",
     "output_type": "stream",
     "text": [
      "ENTER DIRECTION (UP/DOWN/LEFT/RIGHT): u\n"
     ]
    },
    {
     "name": "stdout",
     "output_type": "stream",
     "text": [
      ". . . . . . . . . . \n",
      ". 🍉 . . . . . . . . \n",
      ". . . . . . . . . . \n",
      ". . 🐍 . . . . . . . \n",
      ". . 🐍 . . . . . . . \n",
      ". . 🐍 . . . . . . . \n",
      ". . 🐍 . . . . . . . \n",
      ". . 🐍 . . . . . . . \n",
      ". . . . . . . . . . \n",
      ". . . . . . . . . . \n",
      "\n",
      "SCORE: 4\n"
     ]
    },
    {
     "name": "stdin",
     "output_type": "stream",
     "text": [
      "ENTER DIRECTION (UP/DOWN/LEFT/RIGHT): u\n"
     ]
    },
    {
     "name": "stdout",
     "output_type": "stream",
     "text": [
      ". . . . . . . . . . \n",
      ". 🍉 . . . . . . . . \n",
      ". . 🐍 . . . . . . . \n",
      ". . 🐍 . . . . . . . \n",
      ". . 🐍 . . . . . . . \n",
      ". . 🐍 . . . . . . . \n",
      ". . 🐍 . . . . . . . \n",
      ". . . . . . . . . . \n",
      ". . . . . . . . . . \n",
      ". . . . . . . . . . \n",
      "\n",
      "SCORE: 4\n"
     ]
    },
    {
     "name": "stdin",
     "output_type": "stream",
     "text": [
      "ENTER DIRECTION (UP/DOWN/LEFT/RIGHT): u\n"
     ]
    },
    {
     "name": "stdout",
     "output_type": "stream",
     "text": [
      ". . . . . . . . . . \n",
      ". 🍉 🐍 . . . . . . . \n",
      ". . 🐍 . . . . . . . \n",
      ". . 🐍 . . . . . . . \n",
      ". . 🐍 . . . . . . . \n",
      ". . 🐍 . . . . . . . \n",
      ". . . . . . . . . . \n",
      ". . . . . . . . . . \n",
      ". . . . . . . . . . \n",
      ". . . . . . . . . . \n",
      "\n",
      "SCORE: 4\n"
     ]
    },
    {
     "name": "stdin",
     "output_type": "stream",
     "text": [
      "ENTER DIRECTION (UP/DOWN/LEFT/RIGHT): l\n"
     ]
    },
    {
     "name": "stdout",
     "output_type": "stream",
     "text": [
      ". . . . . . . . . . \n",
      ". 🐍 🐍 . . . . . . . \n",
      ". . 🐍 . . . . . . . \n",
      ". . 🐍 . . . . . . . \n",
      ". . 🐍 . . . . . . . \n",
      ". . 🐍 . . . . . . . \n",
      ". . . . . . . . . . \n",
      ". . . . . . . . . . \n",
      ". . . . . . . . . . \n",
      ". . . . . . . . . 🍉 \n",
      "\n",
      "SCORE: 5\n"
     ]
    },
    {
     "name": "stdin",
     "output_type": "stream",
     "text": [
      "ENTER DIRECTION (UP/DOWN/LEFT/RIGHT): d\n"
     ]
    },
    {
     "name": "stdout",
     "output_type": "stream",
     "text": [
      ". . . . . . . . . . \n",
      ". 🐍 🐍 . . . . . . . \n",
      ". 🐍 🐍 . . . . . . . \n",
      ". . 🐍 . . . . . . . \n",
      ". . 🐍 . . . . . . . \n",
      ". . . . . . . . . . \n",
      ". . . . . . . . . . \n",
      ". . . . . . . . . . \n",
      ". . . . . . . . . . \n",
      ". . . . . . . . . 🍉 \n",
      "\n",
      "SCORE: 5\n"
     ]
    },
    {
     "name": "stdin",
     "output_type": "stream",
     "text": [
      "ENTER DIRECTION (UP/DOWN/LEFT/RIGHT): d\n"
     ]
    },
    {
     "name": "stdout",
     "output_type": "stream",
     "text": [
      ". . . . . . . . . . \n",
      ". 🐍 🐍 . . . . . . . \n",
      ". 🐍 🐍 . . . . . . . \n",
      ". 🐍 🐍 . . . . . . . \n",
      ". . . . . . . . . . \n",
      ". . . . . . . . . . \n",
      ". . . . . . . . . . \n",
      ". . . . . . . . . . \n",
      ". . . . . . . . . . \n",
      ". . . . . . . . . 🍉 \n",
      "\n",
      "SCORE: 5\n"
     ]
    },
    {
     "name": "stdin",
     "output_type": "stream",
     "text": [
      "ENTER DIRECTION (UP/DOWN/LEFT/RIGHT): d\n"
     ]
    },
    {
     "name": "stdout",
     "output_type": "stream",
     "text": [
      ". . . . . . . . . . \n",
      ". 🐍 🐍 . . . . . . . \n",
      ". 🐍 🐍 . . . . . . . \n",
      ". 🐍 . . . . . . . . \n",
      ". 🐍 . . . . . . . . \n",
      ". . . . . . . . . . \n",
      ". . . . . . . . . . \n",
      ". . . . . . . . . . \n",
      ". . . . . . . . . . \n",
      ". . . . . . . . . 🍉 \n",
      "\n",
      "SCORE: 5\n"
     ]
    },
    {
     "name": "stdin",
     "output_type": "stream",
     "text": [
      "ENTER DIRECTION (UP/DOWN/LEFT/RIGHT): d\n"
     ]
    },
    {
     "name": "stdout",
     "output_type": "stream",
     "text": [
      ". . . . . . . . . . \n",
      ". 🐍 🐍 . . . . . . . \n",
      ". 🐍 . . . . . . . . \n",
      ". 🐍 . . . . . . . . \n",
      ". 🐍 . . . . . . . . \n",
      ". 🐍 . . . . . . . . \n",
      ". . . . . . . . . . \n",
      ". . . . . . . . . . \n",
      ". . . . . . . . . . \n",
      ". . . . . . . . . 🍉 \n",
      "\n",
      "SCORE: 5\n"
     ]
    },
    {
     "name": "stdin",
     "output_type": "stream",
     "text": [
      "ENTER DIRECTION (UP/DOWN/LEFT/RIGHT): d\n"
     ]
    },
    {
     "name": "stdout",
     "output_type": "stream",
     "text": [
      ". . . . . . . . . . \n",
      ". 🐍 . . . . . . . . \n",
      ". 🐍 . . . . . . . . \n",
      ". 🐍 . . . . . . . . \n",
      ". 🐍 . . . . . . . . \n",
      ". 🐍 . . . . . . . . \n",
      ". 🐍 . . . . . . . . \n",
      ". . . . . . . . . . \n",
      ". . . . . . . . . . \n",
      ". . . . . . . . . 🍉 \n",
      "\n",
      "SCORE: 5\n"
     ]
    },
    {
     "name": "stdin",
     "output_type": "stream",
     "text": [
      "ENTER DIRECTION (UP/DOWN/LEFT/RIGHT): d\n"
     ]
    },
    {
     "name": "stdout",
     "output_type": "stream",
     "text": [
      ". . . . . . . . . . \n",
      ". . . . . . . . . . \n",
      ". 🐍 . . . . . . . . \n",
      ". 🐍 . . . . . . . . \n",
      ". 🐍 . . . . . . . . \n",
      ". 🐍 . . . . . . . . \n",
      ". 🐍 . . . . . . . . \n",
      ". 🐍 . . . . . . . . \n",
      ". . . . . . . . . . \n",
      ". . . . . . . . . 🍉 \n",
      "\n",
      "SCORE: 5\n"
     ]
    },
    {
     "name": "stdin",
     "output_type": "stream",
     "text": [
      "ENTER DIRECTION (UP/DOWN/LEFT/RIGHT): d\n"
     ]
    },
    {
     "name": "stdout",
     "output_type": "stream",
     "text": [
      ". . . . . . . . . . \n",
      ". . . . . . . . . . \n",
      ". . . . . . . . . . \n",
      ". 🐍 . . . . . . . . \n",
      ". 🐍 . . . . . . . . \n",
      ". 🐍 . . . . . . . . \n",
      ". 🐍 . . . . . . . . \n",
      ". 🐍 . . . . . . . . \n",
      ". 🐍 . . . . . . . . \n",
      ". . . . . . . . . 🍉 \n",
      "\n",
      "SCORE: 5\n"
     ]
    },
    {
     "name": "stdin",
     "output_type": "stream",
     "text": [
      "ENTER DIRECTION (UP/DOWN/LEFT/RIGHT): dd\n"
     ]
    },
    {
     "name": "stdout",
     "output_type": "stream",
     "text": [
      "INVALID DIRECTION,USE LEFT/RIGHT/UP/DOWN ONLY......\n",
      ". . . . . . . . . . \n",
      ". . . . . . . . . . \n",
      ". . . . . . . . . . \n",
      ". . . . . . . . . . \n",
      ". 🐍 . . . . . . . . \n",
      ". 🐍 . . . . . . . . \n",
      ". 🐍 . . . . . . . . \n",
      ". 🐍 . . . . . . . . \n",
      ". 🐍 . . . . . . . . \n",
      ". . . . . . . . . 🍉 \n",
      "\n",
      "SCORE: 5\n"
     ]
    },
    {
     "name": "stdin",
     "output_type": "stream",
     "text": [
      "ENTER DIRECTION (UP/DOWN/LEFT/RIGHT): d\n"
     ]
    },
    {
     "name": "stdout",
     "output_type": "stream",
     "text": [
      ". . . . . . . . . . \n",
      ". . . . . . . . . . \n",
      ". . . . . . . . . . \n",
      ". . . . . . . . . . \n",
      ". . . . . . . . . . \n",
      ". 🐍 . . . . . . . . \n",
      ". 🐍 . . . . . . . . \n",
      ". 🐍 . . . . . . . . \n",
      ". 🐍 . . . . . . . . \n",
      ". 🐍 . . . . . . . 🍉 \n",
      "\n",
      "SCORE: 5\n"
     ]
    },
    {
     "name": "stdin",
     "output_type": "stream",
     "text": [
      "ENTER DIRECTION (UP/DOWN/LEFT/RIGHT): r\n"
     ]
    },
    {
     "name": "stdout",
     "output_type": "stream",
     "text": [
      ". . . . . . . . . . \n",
      ". . . . . . . . . . \n",
      ". . . . . . . . . . \n",
      ". . . . . . . . . . \n",
      ". . . . . . . . . . \n",
      ". . . . . . . . . . \n",
      ". 🐍 . . . . . . . . \n",
      ". 🐍 . . . . . . . . \n",
      ". 🐍 . . . . . . . . \n",
      ". 🐍 🐍 . . . . . . 🍉 \n",
      "\n",
      "SCORE: 5\n"
     ]
    },
    {
     "name": "stdin",
     "output_type": "stream",
     "text": [
      "ENTER DIRECTION (UP/DOWN/LEFT/RIGHT): r\n"
     ]
    },
    {
     "name": "stdout",
     "output_type": "stream",
     "text": [
      ". . . . . . . . . . \n",
      ". . . . . . . . . . \n",
      ". . . . . . . . . . \n",
      ". . . . . . . . . . \n",
      ". . . . . . . . . . \n",
      ". . . . . . . . . . \n",
      ". . . . . . . . . . \n",
      ". 🐍 . . . . . . . . \n",
      ". 🐍 . . . . . . . . \n",
      ". 🐍 🐍 🐍 . . . . . 🍉 \n",
      "\n",
      "SCORE: 5\n"
     ]
    },
    {
     "name": "stdin",
     "output_type": "stream",
     "text": [
      "ENTER DIRECTION (UP/DOWN/LEFT/RIGHT): \n"
     ]
    },
    {
     "name": "stdout",
     "output_type": "stream",
     "text": [
      "INVALID DIRECTION,USE LEFT/RIGHT/UP/DOWN ONLY......\n",
      ". . . . . . . . . . \n",
      ". . . . . . . . . . \n",
      ". . . . . . . . . . \n",
      ". . . . . . . . . . \n",
      ". . . . . . . . . . \n",
      ". . . . . . . . . . \n",
      ". . . . . . . . . . \n",
      ". . . . . . . . . . \n",
      ". 🐍 . . . . . . . . \n",
      ". 🐍 🐍 🐍 . . . . . 🍉 \n",
      "\n",
      "SCORE: 5\n"
     ]
    },
    {
     "name": "stdin",
     "output_type": "stream",
     "text": [
      "ENTER DIRECTION (UP/DOWN/LEFT/RIGHT): r\n"
     ]
    },
    {
     "name": "stdout",
     "output_type": "stream",
     "text": [
      ". . . . . . . . . . \n",
      ". . . . . . . . . . \n",
      ". . . . . . . . . . \n",
      ". . . . . . . . . . \n",
      ". . . . . . . . . . \n",
      ". . . . . . . . . . \n",
      ". . . . . . . . . . \n",
      ". . . . . . . . . . \n",
      ". . . . . . . . . . \n",
      ". 🐍 🐍 🐍 🐍 . . . . 🍉 \n",
      "\n",
      "SCORE: 5\n"
     ]
    },
    {
     "name": "stdin",
     "output_type": "stream",
     "text": [
      "ENTER DIRECTION (UP/DOWN/LEFT/RIGHT): r\n"
     ]
    },
    {
     "name": "stdout",
     "output_type": "stream",
     "text": [
      ". . . . . . . . . . \n",
      ". . . . . . . . . . \n",
      ". . . . . . . . . . \n",
      ". . . . . . . . . . \n",
      ". . . . . . . . . . \n",
      ". . . . . . . . . . \n",
      ". . . . . . . . . . \n",
      ". . . . . . . . . . \n",
      ". . . . . . . . . . \n",
      ". . 🐍 🐍 🐍 🐍 . . . 🍉 \n",
      "\n",
      "SCORE: 5\n"
     ]
    },
    {
     "name": "stdin",
     "output_type": "stream",
     "text": [
      "ENTER DIRECTION (UP/DOWN/LEFT/RIGHT): r\n"
     ]
    },
    {
     "name": "stdout",
     "output_type": "stream",
     "text": [
      ". . . . . . . . . . \n",
      ". . . . . . . . . . \n",
      ". . . . . . . . . . \n",
      ". . . . . . . . . . \n",
      ". . . . . . . . . . \n",
      ". . . . . . . . . . \n",
      ". . . . . . . . . . \n",
      ". . . . . . . . . . \n",
      ". . . . . . . . . . \n",
      ". . . 🐍 🐍 🐍 🐍 . . 🍉 \n",
      "\n",
      "SCORE: 5\n"
     ]
    },
    {
     "name": "stdin",
     "output_type": "stream",
     "text": [
      "ENTER DIRECTION (UP/DOWN/LEFT/RIGHT): r\n"
     ]
    },
    {
     "name": "stdout",
     "output_type": "stream",
     "text": [
      ". . . . . . . . . . \n",
      ". . . . . . . . . . \n",
      ". . . . . . . . . . \n",
      ". . . . . . . . . . \n",
      ". . . . . . . . . . \n",
      ". . . . . . . . . . \n",
      ". . . . . . . . . . \n",
      ". . . . . . . . . . \n",
      ". . . . . . . . . . \n",
      ". . . . 🐍 🐍 🐍 🐍 . 🍉 \n",
      "\n",
      "SCORE: 5\n"
     ]
    },
    {
     "name": "stdin",
     "output_type": "stream",
     "text": [
      "ENTER DIRECTION (UP/DOWN/LEFT/RIGHT): r\n"
     ]
    },
    {
     "name": "stdout",
     "output_type": "stream",
     "text": [
      ". . . . . . . . . . \n",
      ". . . . . . . . . . \n",
      ". . . . . . . . . . \n",
      ". . . . . . . . . . \n",
      ". . . . . . . . . . \n",
      ". . . . . . . . . . \n",
      ". . . . . . . . . . \n",
      ". . . . . . . . . . \n",
      ". . . . . . . . . . \n",
      ". . . . . 🐍 🐍 🐍 🐍 🍉 \n",
      "\n",
      "SCORE: 5\n"
     ]
    },
    {
     "name": "stdin",
     "output_type": "stream",
     "text": [
      "ENTER DIRECTION (UP/DOWN/LEFT/RIGHT): rr\n"
     ]
    },
    {
     "name": "stdout",
     "output_type": "stream",
     "text": [
      "INVALID DIRECTION,USE LEFT/RIGHT/UP/DOWN ONLY......\n",
      ". . . . . . . . . . \n",
      ". . . . . . . . . . \n",
      ". . . . . . . . . . \n",
      ". . . . . . . . . . \n",
      ". . . . . . . . . . \n",
      ". . . . . . . . . . \n",
      ". . . . . . . . . . \n",
      ". . . . . . . . . . \n",
      ". . . . . . . . . . \n",
      ". . . . . . 🐍 🐍 🐍 🍉 \n",
      "\n",
      "SCORE: 5\n"
     ]
    },
    {
     "name": "stdin",
     "output_type": "stream",
     "text": [
      "ENTER DIRECTION (UP/DOWN/LEFT/RIGHT): r\n"
     ]
    },
    {
     "name": "stdout",
     "output_type": "stream",
     "text": [
      ". . . . . . . . . . \n",
      ". . . . . . . . . . \n",
      ". . . . . . . . . . \n",
      ". . . . . . . . . . \n",
      ". . . . . . . . . . \n",
      ". . . . . . . . . . \n",
      ". . . . . . . . . . \n",
      ". 🍉 . . . . . . . . \n",
      ". . . . . . . . . . \n",
      ". . . . . . 🐍 🐍 🐍 🐍 \n",
      "\n",
      "SCORE: 6\n"
     ]
    },
    {
     "name": "stdin",
     "output_type": "stream",
     "text": [
      "ENTER DIRECTION (UP/DOWN/LEFT/RIGHT): u\n"
     ]
    },
    {
     "name": "stdout",
     "output_type": "stream",
     "text": [
      ". . . . . . . . . . \n",
      ". . . . . . . . . . \n",
      ". . . . . . . . . . \n",
      ". . . . . . . . . . \n",
      ". . . . . . . . . . \n",
      ". . . . . . . . . . \n",
      ". . . . . . . . . . \n",
      ". 🍉 . . . . . . . . \n",
      ". . . . . . . . . 🐍 \n",
      ". . . . . . . 🐍 🐍 🐍 \n",
      "\n",
      "SCORE: 6\n"
     ]
    },
    {
     "name": "stdin",
     "output_type": "stream",
     "text": [
      "ENTER DIRECTION (UP/DOWN/LEFT/RIGHT): u\n"
     ]
    },
    {
     "name": "stdout",
     "output_type": "stream",
     "text": [
      ". . . . . . . . . . \n",
      ". . . . . . . . . . \n",
      ". . . . . . . . . . \n",
      ". . . . . . . . . . \n",
      ". . . . . . . . . . \n",
      ". . . . . . . . . . \n",
      ". . . . . . . . . . \n",
      ". 🍉 . . . . . . . 🐍 \n",
      ". . . . . . . . . 🐍 \n",
      ". . . . . . . . 🐍 🐍 \n",
      "\n",
      "SCORE: 6\n"
     ]
    },
    {
     "name": "stdin",
     "output_type": "stream",
     "text": [
      "ENTER DIRECTION (UP/DOWN/LEFT/RIGHT): u\n"
     ]
    },
    {
     "name": "stdout",
     "output_type": "stream",
     "text": [
      ". . . . . . . . . . \n",
      ". . . . . . . . . . \n",
      ". . . . . . . . . . \n",
      ". . . . . . . . . . \n",
      ". . . . . . . . . . \n",
      ". . . . . . . . . . \n",
      ". . . . . . . . . 🐍 \n",
      ". 🍉 . . . . . . . 🐍 \n",
      ". . . . . . . . . 🐍 \n",
      ". . . . . . . . . 🐍 \n",
      "\n",
      "SCORE: 6\n"
     ]
    },
    {
     "name": "stdin",
     "output_type": "stream",
     "text": [
      "ENTER DIRECTION (UP/DOWN/LEFT/RIGHT): l\n"
     ]
    },
    {
     "name": "stdout",
     "output_type": "stream",
     "text": [
      ". . . . . . . . . . \n",
      ". . . . . . . . . . \n",
      ". . . . . . . . . . \n",
      ". . . . . . . . . . \n",
      ". . . . . . . . . . \n",
      ". . . . . . . . . . \n",
      ". . . . . . . . 🐍 🐍 \n",
      ". 🍉 . . . . . . . 🐍 \n",
      ". . . . . . . . . 🐍 \n",
      ". . . . . . . . . . \n",
      "\n",
      "SCORE: 6\n"
     ]
    },
    {
     "name": "stdin",
     "output_type": "stream",
     "text": [
      "ENTER DIRECTION (UP/DOWN/LEFT/RIGHT): l\n"
     ]
    },
    {
     "name": "stdout",
     "output_type": "stream",
     "text": [
      ". . . . . . . . . . \n",
      ". . . . . . . . . . \n",
      ". . . . . . . . . . \n",
      ". . . . . . . . . . \n",
      ". . . . . . . . . . \n",
      ". . . . . . . . . . \n",
      ". . . . . . . 🐍 🐍 🐍 \n",
      ". 🍉 . . . . . . . 🐍 \n",
      ". . . . . . . . . . \n",
      ". . . . . . . . . . \n",
      "\n",
      "SCORE: 6\n"
     ]
    },
    {
     "name": "stdin",
     "output_type": "stream",
     "text": [
      "ENTER DIRECTION (UP/DOWN/LEFT/RIGHT): l\n"
     ]
    },
    {
     "name": "stdout",
     "output_type": "stream",
     "text": [
      ". . . . . . . . . . \n",
      ". . . . . . . . . . \n",
      ". . . . . . . . . . \n",
      ". . . . . . . . . . \n",
      ". . . . . . . . . . \n",
      ". . . . . . . . . . \n",
      ". . . . . . 🐍 🐍 🐍 🐍 \n",
      ". 🍉 . . . . . . . . \n",
      ". . . . . . . . . . \n",
      ". . . . . . . . . . \n",
      "\n",
      "SCORE: 6\n"
     ]
    },
    {
     "name": "stdin",
     "output_type": "stream",
     "text": [
      "ENTER DIRECTION (UP/DOWN/LEFT/RIGHT): l\n"
     ]
    },
    {
     "name": "stdout",
     "output_type": "stream",
     "text": [
      ". . . . . . . . . . \n",
      ". . . . . . . . . . \n",
      ". . . . . . . . . . \n",
      ". . . . . . . . . . \n",
      ". . . . . . . . . . \n",
      ". . . . . . . . . . \n",
      ". . . . . 🐍 🐍 🐍 🐍 . \n",
      ". 🍉 . . . . . . . . \n",
      ". . . . . . . . . . \n",
      ". . . . . . . . . . \n",
      "\n",
      "SCORE: 6\n"
     ]
    },
    {
     "name": "stdin",
     "output_type": "stream",
     "text": [
      "ENTER DIRECTION (UP/DOWN/LEFT/RIGHT): l\n"
     ]
    },
    {
     "name": "stdout",
     "output_type": "stream",
     "text": [
      ". . . . . . . . . . \n",
      ". . . . . . . . . . \n",
      ". . . . . . . . . . \n",
      ". . . . . . . . . . \n",
      ". . . . . . . . . . \n",
      ". . . . . . . . . . \n",
      ". . . . 🐍 🐍 🐍 🐍 . . \n",
      ". 🍉 . . . . . . . . \n",
      ". . . . . . . . . . \n",
      ". . . . . . . . . . \n",
      "\n",
      "SCORE: 6\n"
     ]
    },
    {
     "name": "stdin",
     "output_type": "stream",
     "text": [
      "ENTER DIRECTION (UP/DOWN/LEFT/RIGHT): l\n"
     ]
    },
    {
     "name": "stdout",
     "output_type": "stream",
     "text": [
      ". . . . . . . . . . \n",
      ". . . . . . . . . . \n",
      ". . . . . . . . . . \n",
      ". . . . . . . . . . \n",
      ". . . . . . . . . . \n",
      ". . . . . . . . . . \n",
      ". . . 🐍 🐍 🐍 🐍 . . . \n",
      ". 🍉 . . . . . . . . \n",
      ". . . . . . . . . . \n",
      ". . . . . . . . . . \n",
      "\n",
      "SCORE: 6\n"
     ]
    },
    {
     "name": "stdin",
     "output_type": "stream",
     "text": [
      "ENTER DIRECTION (UP/DOWN/LEFT/RIGHT): l\n"
     ]
    },
    {
     "name": "stdout",
     "output_type": "stream",
     "text": [
      ". . . . . . . . . . \n",
      ". . . . . . . . . . \n",
      ". . . . . . . . . . \n",
      ". . . . . . . . . . \n",
      ". . . . . . . . . . \n",
      ". . . . . . . . . . \n",
      ". . 🐍 🐍 🐍 🐍 . . . . \n",
      ". 🍉 . . . . . . . . \n",
      ". . . . . . . . . . \n",
      ". . . . . . . . . . \n",
      "\n",
      "SCORE: 6\n"
     ]
    },
    {
     "name": "stdin",
     "output_type": "stream",
     "text": [
      "ENTER DIRECTION (UP/DOWN/LEFT/RIGHT): l\n"
     ]
    },
    {
     "name": "stdout",
     "output_type": "stream",
     "text": [
      ". . . . . . . . . . \n",
      ". . . . . . . . . . \n",
      ". . . . . . . . . . \n",
      ". . . . . . . . . . \n",
      ". . . . . . . . . . \n",
      ". . . . . . . . . . \n",
      ". 🐍 🐍 🐍 🐍 . . . . . \n",
      ". 🍉 . . . . . . . . \n",
      ". . . . . . . . . . \n",
      ". . . . . . . . . . \n",
      "\n",
      "SCORE: 6\n"
     ]
    },
    {
     "name": "stdin",
     "output_type": "stream",
     "text": [
      "ENTER DIRECTION (UP/DOWN/LEFT/RIGHT): ld\n"
     ]
    },
    {
     "name": "stdout",
     "output_type": "stream",
     "text": [
      "INVALID DIRECTION,USE LEFT/RIGHT/UP/DOWN ONLY......\n",
      ". . . . . . . . . . \n",
      ". . . . . . . . . . \n",
      ". . . . . . . . . . \n",
      ". . . . . . . . . . \n",
      ". . . . . . . . . . \n",
      ". . . . . . . . . . \n",
      ". 🐍 🐍 🐍 . . . . . . \n",
      ". 🍉 . . . . . . . . \n",
      ". . . . . . . . . . \n",
      ". . . . . . . . . . \n",
      "\n",
      "SCORE: 6\n"
     ]
    },
    {
     "name": "stdin",
     "output_type": "stream",
     "text": [
      "ENTER DIRECTION (UP/DOWN/LEFT/RIGHT): d\n"
     ]
    },
    {
     "name": "stdout",
     "output_type": "stream",
     "text": [
      ". . . . . . . . . . \n",
      ". . . . . . . . . . \n",
      ". . . . . . . . . . \n",
      ". . . . . . . . . . \n",
      ". . . . . . . . . . \n",
      ". . . . . . . . . . \n",
      ". 🐍 🐍 🐍 . 🍉 . . . . \n",
      ". 🐍 . . . . . . . . \n",
      ". . . . . . . . . . \n",
      ". . . . . . . . . . \n",
      "\n",
      "SCORE: 7\n"
     ]
    },
    {
     "name": "stdin",
     "output_type": "stream",
     "text": [
      "ENTER DIRECTION (UP/DOWN/LEFT/RIGHT): d\n"
     ]
    },
    {
     "name": "stdout",
     "output_type": "stream",
     "text": [
      ". . . . . . . . . . \n",
      ". . . . . . . . . . \n",
      ". . . . . . . . . . \n",
      ". . . . . . . . . . \n",
      ". . . . . . . . . . \n",
      ". . . . . . . . . . \n",
      ". 🐍 🐍 . . 🍉 . . . . \n",
      ". 🐍 . . . . . . . . \n",
      ". 🐍 . . . . . . . . \n",
      ". . . . . . . . . . \n",
      "\n",
      "SCORE: 7\n"
     ]
    },
    {
     "name": "stdin",
     "output_type": "stream",
     "text": [
      "ENTER DIRECTION (UP/DOWN/LEFT/RIGHT): r\n"
     ]
    },
    {
     "name": "stdout",
     "output_type": "stream",
     "text": [
      ". . . . . . . . . . \n",
      ". . . . . . . . . . \n",
      ". . . . . . . . . . \n",
      ". . . . . . . . . . \n",
      ". . . . . . . . . . \n",
      ". . . . . . . . . . \n",
      ". 🐍 . . . 🍉 . . . . \n",
      ". 🐍 . . . . . . . . \n",
      ". 🐍 🐍 . . . . . . . \n",
      ". . . . . . . . . . \n",
      "\n",
      "SCORE: 7\n"
     ]
    },
    {
     "name": "stdin",
     "output_type": "stream",
     "text": [
      "ENTER DIRECTION (UP/DOWN/LEFT/RIGHT): r\n"
     ]
    },
    {
     "name": "stdout",
     "output_type": "stream",
     "text": [
      ". . . . . . . . . . \n",
      ". . . . . . . . . . \n",
      ". . . . . . . . . . \n",
      ". . . . . . . . . . \n",
      ". . . . . . . . . . \n",
      ". . . . . . . . . . \n",
      ". . . . . 🍉 . . . . \n",
      ". 🐍 . . . . . . . . \n",
      ". 🐍 🐍 🐍 . . . . . . \n",
      ". . . . . . . . . . \n",
      "\n",
      "SCORE: 7\n"
     ]
    },
    {
     "name": "stdin",
     "output_type": "stream",
     "text": [
      "ENTER DIRECTION (UP/DOWN/LEFT/RIGHT): u\n"
     ]
    },
    {
     "name": "stdout",
     "output_type": "stream",
     "text": [
      ". . . . . . . . . . \n",
      ". . . . . . . . . . \n",
      ". . . . . . . . . . \n",
      ". . . . . . . . . . \n",
      ". . . . . . . . . . \n",
      ". . . . . . . . . . \n",
      ". . . . . 🍉 . . . . \n",
      ". . . 🐍 . . . . . . \n",
      ". 🐍 🐍 🐍 . . . . . . \n",
      ". . . . . . . . . . \n",
      "\n",
      "SCORE: 7\n"
     ]
    },
    {
     "name": "stdin",
     "output_type": "stream",
     "text": [
      "ENTER DIRECTION (UP/DOWN/LEFT/RIGHT): u\n"
     ]
    },
    {
     "name": "stdout",
     "output_type": "stream",
     "text": [
      ". . . . . . . . . . \n",
      ". . . . . . . . . . \n",
      ". . . . . . . . . . \n",
      ". . . . . . . . . . \n",
      ". . . . . . . . . . \n",
      ". . . . . . . . . . \n",
      ". . . 🐍 . 🍉 . . . . \n",
      ". . . 🐍 . . . . . . \n",
      ". . 🐍 🐍 . . . . . . \n",
      ". . . . . . . . . . \n",
      "\n",
      "SCORE: 7\n"
     ]
    },
    {
     "name": "stdin",
     "output_type": "stream",
     "text": [
      "ENTER DIRECTION (UP/DOWN/LEFT/RIGHT): u\n"
     ]
    },
    {
     "name": "stdout",
     "output_type": "stream",
     "text": [
      ". . . . . . . . . . \n",
      ". . . . . . . . . . \n",
      ". . . . . . . . . . \n",
      ". . . . . . . . . . \n",
      ". . . . . . . . . . \n",
      ". . . 🐍 . . . . . . \n",
      ". . . 🐍 . 🍉 . . . . \n",
      ". . . 🐍 . . . . . . \n",
      ". . . 🐍 . . . . . . \n",
      ". . . . . . . . . . \n",
      "\n",
      "SCORE: 7\n"
     ]
    },
    {
     "name": "stdin",
     "output_type": "stream",
     "text": [
      "ENTER DIRECTION (UP/DOWN/LEFT/RIGHT): r\n"
     ]
    },
    {
     "name": "stdout",
     "output_type": "stream",
     "text": [
      ". . . . . . . . . . \n",
      ". . . . . . . . . . \n",
      ". . . . . . . . . . \n",
      ". . . . . . . . . . \n",
      ". . . . . . . . . . \n",
      ". . . 🐍 🐍 . . . . . \n",
      ". . . 🐍 . 🍉 . . . . \n",
      ". . . 🐍 . . . . . . \n",
      ". . . . . . . . . . \n",
      ". . . . . . . . . . \n",
      "\n",
      "SCORE: 7\n"
     ]
    },
    {
     "name": "stdin",
     "output_type": "stream",
     "text": [
      "ENTER DIRECTION (UP/DOWN/LEFT/RIGHT): r\n"
     ]
    },
    {
     "name": "stdout",
     "output_type": "stream",
     "text": [
      ". . . . . . . . . . \n",
      ". . . . . . . . . . \n",
      ". . . . . . . . . . \n",
      ". . . . . . . . . . \n",
      ". . . . . . . . . . \n",
      ". . . 🐍 🐍 🐍 . . . . \n",
      ". . . 🐍 . 🍉 . . . . \n",
      ". . . . . . . . . . \n",
      ". . . . . . . . . . \n",
      ". . . . . . . . . . \n",
      "\n",
      "SCORE: 7\n"
     ]
    },
    {
     "name": "stdin",
     "output_type": "stream",
     "text": [
      "ENTER DIRECTION (UP/DOWN/LEFT/RIGHT): d\n"
     ]
    },
    {
     "name": "stdout",
     "output_type": "stream",
     "text": [
      ". . . . . . . . . . \n",
      ". . . . . . . . . . \n",
      ". . . . . . . . . . \n",
      ". . . . . . . . . . \n",
      ". . . . . . . . . . \n",
      ". . . 🐍 🐍 🐍 . . . . \n",
      ". . . 🐍 . 🐍 . . . . \n",
      ". . . . . . . . . . \n",
      ". . . . . . . . . . \n",
      ". . . . . . 🍉 . . . \n",
      "\n",
      "SCORE: 8\n"
     ]
    },
    {
     "name": "stdin",
     "output_type": "stream",
     "text": [
      "ENTER DIRECTION (UP/DOWN/LEFT/RIGHT): d\n"
     ]
    },
    {
     "name": "stdout",
     "output_type": "stream",
     "text": [
      ". . . . . . . . . . \n",
      ". . . . . . . . . . \n",
      ". . . . . . . . . . \n",
      ". . . . . . . . . . \n",
      ". . . . . . . . . . \n",
      ". . . 🐍 🐍 🐍 . . . . \n",
      ". . . . . 🐍 . . . . \n",
      ". . . . . 🐍 . . . . \n",
      ". . . . . . . . . . \n",
      ". . . . . . 🍉 . . . \n",
      "\n",
      "SCORE: 8\n"
     ]
    },
    {
     "name": "stdin",
     "output_type": "stream",
     "text": [
      "ENTER DIRECTION (UP/DOWN/LEFT/RIGHT): d\n"
     ]
    },
    {
     "name": "stdout",
     "output_type": "stream",
     "text": [
      ". . . . . . . . . . \n",
      ". . . . . . . . . . \n",
      ". . . . . . . . . . \n",
      ". . . . . . . . . . \n",
      ". . . . . . . . . . \n",
      ". . . . 🐍 🐍 . . . . \n",
      ". . . . . 🐍 . . . . \n",
      ". . . . . 🐍 . . . . \n",
      ". . . . . 🐍 . . . . \n",
      ". . . . . . 🍉 . . . \n",
      "\n",
      "SCORE: 8\n"
     ]
    },
    {
     "name": "stdin",
     "output_type": "stream",
     "text": [
      "ENTER DIRECTION (UP/DOWN/LEFT/RIGHT): d\n"
     ]
    },
    {
     "name": "stdout",
     "output_type": "stream",
     "text": [
      ". . . . . . . . . . \n",
      ". . . . . . . . . . \n",
      ". . . . . . . . . . \n",
      ". . . . . . . . . . \n",
      ". . . . . . . . . . \n",
      ". . . . . 🐍 . . . . \n",
      ". . . . . 🐍 . . . . \n",
      ". . . . . 🐍 . . . . \n",
      ". . . . . 🐍 . . . . \n",
      ". . . . . 🐍 🍉 . . . \n",
      "\n",
      "SCORE: 8\n"
     ]
    },
    {
     "name": "stdin",
     "output_type": "stream",
     "text": [
      "ENTER DIRECTION (UP/DOWN/LEFT/RIGHT): r\n"
     ]
    },
    {
     "name": "stdout",
     "output_type": "stream",
     "text": [
      ". . . . . . . . . . \n",
      ". . . . . . . . . . \n",
      ". . . . . . . . . . \n",
      ". . . . . . . . . . \n",
      ". . . . 🍉 . . . . . \n",
      ". . . . . 🐍 . . . . \n",
      ". . . . . 🐍 . . . . \n",
      ". . . . . 🐍 . . . . \n",
      ". . . . . 🐍 . . . . \n",
      ". . . . . 🐍 🐍 . . . \n",
      "\n",
      "SCORE: 9\n"
     ]
    },
    {
     "name": "stdin",
     "output_type": "stream",
     "text": [
      "ENTER DIRECTION (UP/DOWN/LEFT/RIGHT): r\n"
     ]
    },
    {
     "name": "stdout",
     "output_type": "stream",
     "text": [
      ". . . . . . . . . . \n",
      ". . . . . . . . . . \n",
      ". . . . . . . . . . \n",
      ". . . . . . . . . . \n",
      ". . . . 🍉 . . . . . \n",
      ". . . . . . . . . . \n",
      ". . . . . 🐍 . . . . \n",
      ". . . . . 🐍 . . . . \n",
      ". . . . . 🐍 . . . . \n",
      ". . . . . 🐍 🐍 🐍 . . \n",
      "\n",
      "SCORE: 9\n"
     ]
    },
    {
     "name": "stdin",
     "output_type": "stream",
     "text": [
      "ENTER DIRECTION (UP/DOWN/LEFT/RIGHT): u\n"
     ]
    },
    {
     "name": "stdout",
     "output_type": "stream",
     "text": [
      ". . . . . . . . . . \n",
      ". . . . . . . . . . \n",
      ". . . . . . . . . . \n",
      ". . . . . . . . . . \n",
      ". . . . 🍉 . . . . . \n",
      ". . . . . . . . . . \n",
      ". . . . . . . . . . \n",
      ". . . . . 🐍 . . . . \n",
      ". . . . . 🐍 . 🐍 . . \n",
      ". . . . . 🐍 🐍 🐍 . . \n",
      "\n",
      "SCORE: 9\n"
     ]
    },
    {
     "name": "stdin",
     "output_type": "stream",
     "text": [
      "ENTER DIRECTION (UP/DOWN/LEFT/RIGHT): u\n"
     ]
    },
    {
     "name": "stdout",
     "output_type": "stream",
     "text": [
      ". . . . . . . . . . \n",
      ". . . . . . . . . . \n",
      ". . . . . . . . . . \n",
      ". . . . . . . . . . \n",
      ". . . . 🍉 . . . . . \n",
      ". . . . . . . . . . \n",
      ". . . . . . . . . . \n",
      ". . . . . . . 🐍 . . \n",
      ". . . . . 🐍 . 🐍 . . \n",
      ". . . . . 🐍 🐍 🐍 . . \n",
      "\n",
      "SCORE: 9\n"
     ]
    },
    {
     "name": "stdin",
     "output_type": "stream",
     "text": [
      "ENTER DIRECTION (UP/DOWN/LEFT/RIGHT): u\n"
     ]
    },
    {
     "name": "stdout",
     "output_type": "stream",
     "text": [
      ". . . . . . . . . . \n",
      ". . . . . . . . . . \n",
      ". . . . . . . . . . \n",
      ". . . . . . . . . . \n",
      ". . . . 🍉 . . . . . \n",
      ". . . . . . . . . . \n",
      ". . . . . . . 🐍 . . \n",
      ". . . . . . . 🐍 . . \n",
      ". . . . . . . 🐍 . . \n",
      ". . . . . 🐍 🐍 🐍 . . \n",
      "\n",
      "SCORE: 9\n"
     ]
    },
    {
     "name": "stdin",
     "output_type": "stream",
     "text": [
      "ENTER DIRECTION (UP/DOWN/LEFT/RIGHT): u\n"
     ]
    },
    {
     "name": "stdout",
     "output_type": "stream",
     "text": [
      ". . . . . . . . . . \n",
      ". . . . . . . . . . \n",
      ". . . . . . . . . . \n",
      ". . . . . . . . . . \n",
      ". . . . 🍉 . . . . . \n",
      ". . . . . . . 🐍 . . \n",
      ". . . . . . . 🐍 . . \n",
      ". . . . . . . 🐍 . . \n",
      ". . . . . . . 🐍 . . \n",
      ". . . . . . 🐍 🐍 . . \n",
      "\n",
      "SCORE: 9\n"
     ]
    },
    {
     "name": "stdin",
     "output_type": "stream",
     "text": [
      "ENTER DIRECTION (UP/DOWN/LEFT/RIGHT): u\n"
     ]
    },
    {
     "name": "stdout",
     "output_type": "stream",
     "text": [
      ". . . . . . . . . . \n",
      ". . . . . . . . . . \n",
      ". . . . . . . . . . \n",
      ". . . . . . . . . . \n",
      ". . . . 🍉 . . 🐍 . . \n",
      ". . . . . . . 🐍 . . \n",
      ". . . . . . . 🐍 . . \n",
      ". . . . . . . 🐍 . . \n",
      ". . . . . . . 🐍 . . \n",
      ". . . . . . . 🐍 . . \n",
      "\n",
      "SCORE: 9\n"
     ]
    },
    {
     "name": "stdin",
     "output_type": "stream",
     "text": [
      "ENTER DIRECTION (UP/DOWN/LEFT/RIGHT): l\n"
     ]
    },
    {
     "name": "stdout",
     "output_type": "stream",
     "text": [
      ". . . . . . . . . . \n",
      ". . . . . . . . . . \n",
      ". . . . . . . . . . \n",
      ". . . . . . . . . . \n",
      ". . . . 🍉 . 🐍 🐍 . . \n",
      ". . . . . . . 🐍 . . \n",
      ". . . . . . . 🐍 . . \n",
      ". . . . . . . 🐍 . . \n",
      ". . . . . . . 🐍 . . \n",
      ". . . . . . . . . . \n",
      "\n",
      "SCORE: 9\n"
     ]
    },
    {
     "name": "stdin",
     "output_type": "stream",
     "text": [
      "ENTER DIRECTION (UP/DOWN/LEFT/RIGHT): l\n"
     ]
    },
    {
     "name": "stdout",
     "output_type": "stream",
     "text": [
      ". . . . . . . . . . \n",
      ". . . . . . . . . . \n",
      ". . . . . . . . . . \n",
      ". . . . . . . . . . \n",
      ". . . . 🍉 🐍 🐍 🐍 . . \n",
      ". . . . . . . 🐍 . . \n",
      ". . . . . . . 🐍 . . \n",
      ". . . . . . . 🐍 . . \n",
      ". . . . . . . . . . \n",
      ". . . . . . . . . . \n",
      "\n",
      "SCORE: 9\n"
     ]
    },
    {
     "name": "stdin",
     "output_type": "stream",
     "text": [
      "ENTER DIRECTION (UP/DOWN/LEFT/RIGHT): l\n"
     ]
    },
    {
     "name": "stdout",
     "output_type": "stream",
     "text": [
      ". . . . . . . . . . \n",
      ". . . . . . . . . . \n",
      ". 🍉 . . . . . . . . \n",
      ". . . . . . . . . . \n",
      ". . . . 🐍 🐍 🐍 🐍 . . \n",
      ". . . . . . . 🐍 . . \n",
      ". . . . . . . 🐍 . . \n",
      ". . . . . . . 🐍 . . \n",
      ". . . . . . . . . . \n",
      ". . . . . . . . . . \n",
      "\n",
      "SCORE: 10\n"
     ]
    },
    {
     "name": "stdin",
     "output_type": "stream",
     "text": [
      "ENTER DIRECTION (UP/DOWN/LEFT/RIGHT): l\n"
     ]
    },
    {
     "name": "stdout",
     "output_type": "stream",
     "text": [
      ". . . . . . . . . . \n",
      ". . . . . . . . . . \n",
      ". 🍉 . . . . . . . . \n",
      ". . . . . . . . . . \n",
      ". . . 🐍 🐍 🐍 🐍 🐍 . . \n",
      ". . . . . . . 🐍 . . \n",
      ". . . . . . . 🐍 . . \n",
      ". . . . . . . . . . \n",
      ". . . . . . . . . . \n",
      ". . . . . . . . . . \n",
      "\n",
      "SCORE: 10\n"
     ]
    },
    {
     "name": "stdin",
     "output_type": "stream",
     "text": [
      "ENTER DIRECTION (UP/DOWN/LEFT/RIGHT): l\n"
     ]
    },
    {
     "name": "stdout",
     "output_type": "stream",
     "text": [
      ". . . . . . . . . . \n",
      ". . . . . . . . . . \n",
      ". 🍉 . . . . . . . . \n",
      ". . . . . . . . . . \n",
      ". . 🐍 🐍 🐍 🐍 🐍 🐍 . . \n",
      ". . . . . . . 🐍 . . \n",
      ". . . . . . . . . . \n",
      ". . . . . . . . . . \n",
      ". . . . . . . . . . \n",
      ". . . . . . . . . . \n",
      "\n",
      "SCORE: 10\n"
     ]
    },
    {
     "name": "stdin",
     "output_type": "stream",
     "text": [
      "ENTER DIRECTION (UP/DOWN/LEFT/RIGHT): ll\n"
     ]
    },
    {
     "name": "stdout",
     "output_type": "stream",
     "text": [
      "INVALID DIRECTION,USE LEFT/RIGHT/UP/DOWN ONLY......\n",
      ". . . . . . . . . . \n",
      ". . . . . . . . . . \n",
      ". 🍉 . . . . . . . . \n",
      ". . . . . . . . . . \n",
      ". . 🐍 🐍 🐍 🐍 🐍 🐍 . . \n",
      ". . . . . . . . . . \n",
      ". . . . . . . . . . \n",
      ". . . . . . . . . . \n",
      ". . . . . . . . . . \n",
      ". . . . . . . . . . \n",
      "\n",
      "SCORE: 10\n"
     ]
    },
    {
     "name": "stdin",
     "output_type": "stream",
     "text": [
      "ENTER DIRECTION (UP/DOWN/LEFT/RIGHT): l\n"
     ]
    },
    {
     "name": "stdout",
     "output_type": "stream",
     "text": [
      ". . . . . . . . . . \n",
      ". . . . . . . . . . \n",
      ". 🍉 . . . . . . . . \n",
      ". . . . . . . . . . \n",
      ". 🐍 🐍 🐍 🐍 🐍 🐍 . . . \n",
      ". . . . . . . . . . \n",
      ". . . . . . . . . . \n",
      ". . . . . . . . . . \n",
      ". . . . . . . . . . \n",
      ". . . . . . . . . . \n",
      "\n",
      "SCORE: 10\n"
     ]
    },
    {
     "name": "stdin",
     "output_type": "stream",
     "text": [
      "ENTER DIRECTION (UP/DOWN/LEFT/RIGHT): u\n"
     ]
    },
    {
     "name": "stdout",
     "output_type": "stream",
     "text": [
      ". . . . . . . . . . \n",
      ". . . . . . . . . . \n",
      ". 🍉 . . . . . . . . \n",
      ". 🐍 . . . . . . . . \n",
      ". 🐍 🐍 🐍 🐍 🐍 . . . . \n",
      ". . . . . . . . . . \n",
      ". . . . . . . . . . \n",
      ". . . . . . . . . . \n",
      ". . . . . . . . . . \n",
      ". . . . . . . . . . \n",
      "\n",
      "SCORE: 10\n"
     ]
    },
    {
     "name": "stdin",
     "output_type": "stream",
     "text": [
      "ENTER DIRECTION (UP/DOWN/LEFT/RIGHT): u\n"
     ]
    },
    {
     "name": "stdout",
     "output_type": "stream",
     "text": [
      ". . . . . . . . . . \n",
      ". . . . . . . . . . \n",
      ". 🐍 . . . . . . . . \n",
      ". 🐍 . . . . . . . . \n",
      ". 🐍 🐍 🐍 🐍 🐍 . . . . \n",
      ". . . . . 🍉 . . . . \n",
      ". . . . . . . . . . \n",
      ". . . . . . . . . . \n",
      ". . . . . . . . . . \n",
      ". . . . . . . . . . \n",
      "\n",
      "SCORE: 11\n"
     ]
    }
   ],
   "source": [
    "import random\n",
    "\n",
    "width=10\n",
    "height=10\n",
    " \n",
    "def print_board(snake,food):\n",
    "    for y in range(height):\n",
    "        for x in range(width):\n",
    "            if [x,y]==food:\n",
    "                print('🍉',end=' ')\n",
    "            elif [x,y] in snake:\n",
    "                print('🐍', end=' ')\n",
    "            else:\n",
    "                print('.',end=' ')\n",
    "        print()\n",
    "    print()\n",
    "\n",
    "#THIS PART IS ABOUT SNAKE MOVEMENTS TO MOVE IN WHICH DIRECTION\n",
    "\n",
    "def move_snake(snake,direction):\n",
    "    head=snake[-1]\n",
    "    if direction=='u':\n",
    "        new_head=[head[0], head[1]-1]\n",
    "    elif direction=='d':\n",
    "        new_head = [head[0], head[1]+1]\n",
    "    elif direction == 'l':\n",
    "        new_head = [head[0]-1, head[1]]\n",
    "    elif direction == 'r':\n",
    "        new_head = [head[0]+1, head[1]]\n",
    "    else:\n",
    "        print(\"INVALID DIRECTION,USE LEFT/RIGHT/UP/DOWN ONLY......\")\n",
    "        return snake,False\n",
    "\n",
    "# WALL COLLIDE CONDITIONS:\n",
    "    if new_head[0]<0 or new_head[0]>=width or new_head[1]<0 or new_head[1]>=height:\n",
    "        return snake,'wall'\n",
    "\n",
    "#self collide conditions\n",
    "\n",
    "    if new_head in snake:\n",
    "        return snake,'self'\n",
    "    snake.append(new_head)\n",
    "    return snake,new_head\n",
    "\n",
    "def place_food(snake):\n",
    "    while True:\n",
    "        x=random.randint(0,width-1)\n",
    "        y=random.randint(0,height-1)\n",
    "        if [x,y] not in snake:\n",
    "            return [x,y]\n",
    "\n",
    "def snake_game():\n",
    "    snake=[[5,5]]\n",
    "    food=place_food(snake)\n",
    "    score=0\n",
    "    while True:\n",
    "        print_board(snake,food)\n",
    "        print(\"SCORE:\",score)\n",
    "        direction=input(\"ENTER DIRECTION (UP/DOWN/LEFT/RIGHT):\").lower()\n",
    "        snake,result=move_snake(snake,direction)\n",
    "        if result=='wall':\n",
    "            print(\"YOU HIT THE WALL,GAME OVER!!!\")\n",
    "            break\n",
    "        elif result==\"self\":\n",
    "            print(\"YOU HIT YOURSELF....GAME OVER!!!!\")\n",
    "            break\n",
    "        elif result==food:\n",
    "            score+=1\n",
    "            food=place_food(snake)\n",
    "        else:\n",
    "            snake.pop(0)\n",
    "    print(\"FINAL SCORE:\",score)\n",
    "snake_game()"
   ]
  },
  {
   "cell_type": "code",
   "execution_count": null,
   "id": "0be57bc7-83ec-4710-be35-8fd81eac2108",
   "metadata": {},
   "outputs": [],
   "source": []
  }
 ],
 "metadata": {
  "kernelspec": {
   "display_name": "Python 3 (ipykernel)",
   "language": "python",
   "name": "python3"
  },
  "language_info": {
   "codemirror_mode": {
    "name": "ipython",
    "version": 3
   },
   "file_extension": ".py",
   "mimetype": "text/x-python",
   "name": "python",
   "nbconvert_exporter": "python",
   "pygments_lexer": "ipython3",
   "version": "3.12.7"
  }
 },
 "nbformat": 4,
 "nbformat_minor": 5
}
