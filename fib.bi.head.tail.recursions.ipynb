{
 "cells": [
  {
   "cell_type": "code",
   "execution_count": 10,
   "id": "b5942706-2848-4185-9445-46a3ca7d10da",
   "metadata": {},
   "outputs": [
    {
     "name": "stdin",
     "output_type": "stream",
     "text": [
      "enter number of terms to print : 9\n"
     ]
    },
    {
     "name": "stdout",
     "output_type": "stream",
     "text": [
      "fibonacci series......  \n",
      "0 1 1 2 3 5 8 13 21 "
     ]
    }
   ],
   "source": [
    "#tree recursions\n",
    "#fib o tree recursions 0 1 1 2 3 5 8 \n",
    "def fib(n):\n",
    "    if n<=1:\n",
    "        return n\n",
    "    return fib(n-1)+fib(n-2)\n",
    "terms= int(input(\"enter number of terms to print :\"))\n",
    "print((\"fibonacci series......  \"))\n",
    "for i in range(terms):\n",
    "    print(fib(i), end=' ')\n",
    "    "
   ]
  },
  {
   "cell_type": "code",
   "execution_count": 31,
   "id": "da237127-50ce-4209-a5c2-7b23c3e5db97",
   "metadata": {},
   "outputs": [
    {
     "name": "stdin",
     "output_type": "stream",
     "text": [
      "enter a name/word:  abc\n"
     ]
    },
    {
     "name": "stdout",
     "output_type": "stream",
     "text": [
      "possibilties of combinations......\n",
      "abc\n",
      "acb\n",
      "bac\n",
      "bca\n",
      "cab\n",
      "cba\n"
     ]
    }
   ],
   "source": [
    "'''permuatations of char in tree recursion '''\n",
    "def permute(s, bucket=''):\n",
    "    if not s:\n",
    "        print(bucket)\n",
    "        return \n",
    "    for i in range(len(s)):\n",
    "        ns=s[:i]+s[i+1:]\n",
    "        permute(ns,bucket+s[i])\n",
    "text=input(\"enter a name/word: \")\n",
    "print(\"possibilties of combinations......\")\n",
    "permute(text)"
   ]
  },
  {
   "cell_type": "code",
   "execution_count": null,
   "id": "0ed88042-89d7-4630-99d8-6627956d14a4",
   "metadata": {},
   "outputs": [],
   "source": [
    "'''0\n",
    "fib(n)\n",
    "if n<=1\n",
    "return n\n",
    "return fib(n-1)+ib(n-2)\n",
    "for i in range(4)\n",
    " i=0= n=0 =<=1 return 0\n",
    " i=1  n=1 1<=1 return 1\n",
    " i=2  n=2 2<=2 F fib(2-1)+fib(2-2)\n",
    "                fib(1)+fib(0)\n",
    "                 1  +  0=1\n",
    "  fib(1) i=1 n=1 1<=1 return 1\n",
    "  fib(0) i=0 n=0 0<=1 return 0\n",
    "  \n",
    "  i=3 n=3 3<=1 F fib(3-1)+ fib(3-2)\n",
    "                 fib(2) + fib(1) \n",
    "                     1  + 1 =2\n",
    "  i=4 n=4 4<=1 F fib(4-1)+ fib(4-2)\n",
    "                 fib(3)  +fib(2)\n",
    "                     1   +  2 =3\n",
    "  i=5 n=5 5<=1 F fib(5-1) + fib(5-2)\n",
    "                fib(4)  + fib(3)\n",
    "                    3   + 2   = 5\n",
    "                    '''"
   ]
  },
  {
   "cell_type": "code",
   "execution_count": null,
   "id": "292ce357-ea87-45c1-bc0e-dbca02c4ddeb",
   "metadata": {},
   "outputs": [],
   "source": [
    "''' permmute(abc, bucket='')\n",
    "for i in range(len(abc)) ns=s[:i]+s[i+1:]\n",
    "i=0   A \"bc\"\n",
    "i=1   B \"ac\"\n",
    "i=2   c \"ab\"\n",
    "permute(bc, bucket='a')\n",
    "i=0  b \"c'\n",
    "i=1  c \"b\"\n",
    "permute(c, bucket='ab')       permute(b, bucket=ac)\n",
    "i=0   c  \" \"                       i=0 b  new  '  '\n",
    "permute(c, bucket='abc')       permute(b, bucket=acb)\n",
    "permute(\" abc\", bucket='') ns=s[:i]+s{i:1]\n",
    "\n",
    " '''"
   ]
  },
  {
   "cell_type": "code",
   "execution_count": 29,
   "id": "61835654-649d-40d9-ac69-ddf6d6782348",
   "metadata": {},
   "outputs": [
    {
     "name": "stdin",
     "output_type": "stream",
     "text": [
      "enter length of string : 2\n"
     ]
    },
    {
     "name": "stdout",
     "output_type": "stream",
     "text": [
      "00\n",
      "01\n",
      "10\n",
      "11\n"
     ]
    }
   ],
   "source": [
    "#biary combinations\n",
    "def binary(n, b=''):\n",
    "    if n==0:\n",
    "        print(b)\n",
    "        return\n",
    "    binary(n-1, b+'0')\n",
    "    binary(n-1, b+'1')\n",
    "length=int(input(\"enter length of string :\"))\n",
    "binary(length)\n"
   ]
  },
  {
   "cell_type": "code",
   "execution_count": 35,
   "id": "504744a3-570e-48ad-9155-78c587042c25",
   "metadata": {},
   "outputs": [
    {
     "name": "stdin",
     "output_type": "stream",
     "text": [
      "enter a number: 6\n"
     ]
    },
    {
     "name": "stdout",
     "output_type": "stream",
     "text": [
      "1\n",
      "2\n",
      "3\n",
      "4\n",
      "5\n",
      "6\n"
     ]
    }
   ],
   "source": [
    "#head recursion - first\n",
    "#tail recursion\n",
    "def head(n):\n",
    "    if n==0:\n",
    "        return \n",
    "    head(n-1)\n",
    "    print(n)\n",
    "num=int(input(\"enter a number:\"))\n",
    "head(num)"
   ]
  },
  {
   "cell_type": "code",
   "execution_count": 37,
   "id": "0e5fa243-d372-4eff-ae3d-441b21e59a52",
   "metadata": {},
   "outputs": [
    {
     "name": "stdin",
     "output_type": "stream",
     "text": [
      "enter a number: 5\n"
     ]
    },
    {
     "name": "stdout",
     "output_type": "stream",
     "text": [
      "5\n",
      "4\n",
      "3\n",
      "2\n",
      "1\n"
     ]
    }
   ],
   "source": [
    "#tail recursion\n",
    "def tail(n):\n",
    "    if n==0:\n",
    "        return \n",
    "    print(n)\n",
    "    head(n-1)\n",
    "    \n",
    "num=int(input(\"enter a number:\"))\n",
    "tail(num)"
   ]
  },
  {
   "cell_type": "code",
   "execution_count": 41,
   "id": "6d6c8060-ea01-4b1d-86db-05fc1b6951e4",
   "metadata": {},
   "outputs": [
    {
     "name": "stdin",
     "output_type": "stream",
     "text": [
      "enter a num: 5\n"
     ]
    },
    {
     "name": "stdout",
     "output_type": "stream",
     "text": [
      "sum: 15\n"
     ]
    }
   ],
   "source": [
    "def sumhead(n):\n",
    "    if n==0:\n",
    "        return 0\n",
    "    return n+sumhead(n-1)\n",
    "num=int(input(\"enter a num:\"))\n",
    "print(\"sum:\", sumhead(num))"
   ]
  },
  {
   "cell_type": "code",
   "execution_count": 47,
   "id": "46ccac07-bf75-43bb-9829-b248bc1bb5c6",
   "metadata": {},
   "outputs": [
    {
     "name": "stdin",
     "output_type": "stream",
     "text": [
      "enter a num: 5\n"
     ]
    },
    {
     "name": "stdout",
     "output_type": "stream",
     "text": [
      "sum: 15\n"
     ]
    }
   ],
   "source": [
    "def sumtail(n, temp=0):\n",
    "    if n==0:\n",
    "        return temp\n",
    "    return sumtail(n-1, temp+n)\n",
    "num=int(input(\"enter a num:\"))\n",
    "print(\"sum:\",sumtail(num))"
   ]
  },
  {
   "cell_type": "code",
   "execution_count": null,
   "id": "aaddba7c-d50a-418c-9dfb-9e65ce6cd84d",
   "metadata": {},
   "outputs": [],
   "source": []
  }
 ],
 "metadata": {
  "kernelspec": {
   "display_name": "Python 3 (ipykernel)",
   "language": "python",
   "name": "python3"
  },
  "language_info": {
   "codemirror_mode": {
    "name": "ipython",
    "version": 3
   },
   "file_extension": ".py",
   "mimetype": "text/x-python",
   "name": "python",
   "nbconvert_exporter": "python",
   "pygments_lexer": "ipython3",
   "version": "3.12.7"
  }
 },
 "nbformat": 4,
 "nbformat_minor": 5
}
