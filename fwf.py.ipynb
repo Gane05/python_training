{
 "cells": [
  {
   "cell_type": "code",
   "execution_count": null,
   "id": "82eacebb-a95e-4dd6-bf44-705004d35083",
   "metadata": {},
   "outputs": [],
   "source": [
    "#functions within functions\n",
    "#def outer():\n",
    "#    def inner():\n",
    "\n"
   ]
  },
  {
   "cell_type": "code",
   "execution_count": 19,
   "id": "b176ceaf-cdab-4339-a953-5503716ac610",
   "metadata": {},
   "outputs": [
    {
     "name": "stdout",
     "output_type": "stream",
     "text": [
      "this is an inner function .......\n",
      "this is an inner function ......\n"
     ]
    }
   ],
   "source": [
    "def outer():\n",
    "    print(\"this is an outer function .......\")\n",
    "    def inner():\n",
    "        print(\"this is an inner function ......\")\n",
    "    inner()\n",
    "outer()"
   ]
  },
  {
   "cell_type": "code",
   "execution_count": 35,
   "id": "ce0dc31d-92dd-4d5e-8bcf-58d5a3b7a319",
   "metadata": {},
   "outputs": [
    {
     "ename": "SyntaxError",
     "evalue": "invalid syntax. Perhaps you forgot a comma? (3745756647.py, line 11)",
     "output_type": "error",
     "traceback": [
      "\u001b[1;36m  Cell \u001b[1;32mIn[35], line 11\u001b[1;36m\u001b[0m\n\u001b[1;33m    a=int(input(\"enter a number:\")\u001b[0m\n\u001b[1;37m          ^\u001b[0m\n\u001b[1;31mSyntaxError\u001b[0m\u001b[1;31m:\u001b[0m invalid syntax. Perhaps you forgot a comma?\n"
     ]
    }
   ],
   "source": [
    "def cal(a,b):\n",
    "    def add():\n",
    "        return a+b\n",
    "    def sub():\n",
    "        return a*b\n",
    "    def mul():\n",
    "        return a*b\n",
    "    print(\"addition\", add())\n",
    "    print(\"subract\", sub())\n",
    "    print(\"product\", mul())\n",
    "a=int(input(\"enter a number:\")\n",
    "b=int(input(\"enter b number:\")\n",
    "cal(a,b)"
   ]
  },
  {
   "cell_type": "code",
   "execution_count": null,
   "id": "c5f36598-c049-45e7-8302-add9c470cc08",
   "metadata": {},
   "outputs": [],
   "source": []
  }
 ],
 "metadata": {
  "kernelspec": {
   "display_name": "Python 3 (ipykernel)",
   "language": "python",
   "name": "python3"
  },
  "language_info": {
   "codemirror_mode": {
    "name": "ipython",
    "version": 3
   },
   "file_extension": ".py",
   "mimetype": "text/x-python",
   "name": "python",
   "nbconvert_exporter": "python",
   "pygments_lexer": "ipython3",
   "version": "3.12.7"
  }
 },
 "nbformat": 4,
 "nbformat_minor": 5
}
