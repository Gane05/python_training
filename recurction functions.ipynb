{
 "cells": [
  {
   "cell_type": "code",
   "execution_count": 34,
   "id": "10a079fb-1ad5-4b74-902e-705020a0264a",
   "metadata": {},
   "outputs": [
    {
     "name": "stdin",
     "output_type": "stream",
     "text": [
      "enter a num 3\n"
     ]
    },
    {
     "name": "stdout",
     "output_type": "stream",
     "text": [
      "factorial of 3 is  6\n"
     ]
    }
   ],
   "source": [
    "#listcomp.py\n",
    "fact=1\n",
    "def factorial(n):\n",
    "    global fact \n",
    "    fact= 1\n",
    "    for i in range(1,1+n):\n",
    "        fact*=i\n",
    "    return factorial\n",
    "num= int(input(\"enter a num\"))\n",
    "if num<0:\n",
    "    print(\"cannot derive fact for -ve numbers\")\n",
    "else:\n",
    "     factorial(num)\n",
    "     print(f\"factorial of {num} is \",fact )"
   ]
  },
  {
   "cell_type": "code",
   "execution_count": 56,
   "id": "ca001df2-15fd-476f-9453-f662db7d35ba",
   "metadata": {},
   "outputs": [
    {
     "name": "stdin",
     "output_type": "stream",
     "text": [
      "enter the value: -6\n"
     ]
    },
    {
     "name": "stdout",
     "output_type": "stream",
     "text": [
      "not valid\n"
     ]
    }
   ],
   "source": [
    "#factorial of n numbers\n",
    "def factorial(n):\n",
    "    if  n<=0 or n==1:\n",
    "        if n<=0:\n",
    "            return \"not valid\"\n",
    "    else:\n",
    "        return 1\n",
    "    return n * factorial(n-1)\n",
    "num= int(input(\"enter the value:\"))\n",
    "value= factorial(num)\n",
    "print(value)"
   ]
  },
  {
   "cell_type": "code",
   "execution_count": 52,
   "id": "6bf34043-3df0-4742-bc64-648ff6f7b211",
   "metadata": {},
   "outputs": [
    {
     "name": "stdin",
     "output_type": "stream",
     "text": [
      "enter n: 89\n"
     ]
    },
    {
     "name": "stdout",
     "output_type": "stream",
     "text": [
      "sum of first 89 natral number is 4005\n"
     ]
    }
   ],
   "source": [
    "#sum of n natural numbers using recurtoins in functions\n",
    "def nsum(n):\n",
    "    if n==0:\n",
    "        return 0\n",
    "    return n+nsum(n-1)\n",
    "num=int(input(\"enter n:\"))\n",
    "print(\"sum of first\",num,\"natral number is\",nsum(num))"
   ]
  },
  {
   "cell_type": "code",
   "execution_count": 62,
   "id": "798582c4-adf8-4790-9281-088c48f4a358",
   "metadata": {},
   "outputs": [
    {
     "name": "stdin",
     "output_type": "stream",
     "text": [
      "enter a word mission\n"
     ]
    },
    {
     "name": "stdout",
     "output_type": "stream",
     "text": [
      "noissim\n"
     ]
    }
   ],
   "source": [
    "def rstring(s):\n",
    "    if len(s)==0:\n",
    "        return s\n",
    "    return rstring(s[1:])+s[0]\n",
    "text= input(\"enter a word\")\n",
    "print(rstring(text))"
   ]
  },
  {
   "cell_type": "code",
   "execution_count": 64,
   "id": "58f348bd-25e2-450d-a0c1-e361278193d7",
   "metadata": {},
   "outputs": [
    {
     "name": "stdin",
     "output_type": "stream",
     "text": [
      "enter a word word\n"
     ]
    },
    {
     "name": "stdout",
     "output_type": "stream",
     "text": [
      "drow\n"
     ]
    }
   ],
   "source": [
    "text=input(\"enter a word\")\n",
    "print(text[::-1])"
   ]
  },
  {
   "cell_type": "code",
   "execution_count": 74,
   "id": "30d67d97-0cc4-4d71-888e-e80de8256e6e",
   "metadata": {},
   "outputs": [
    {
     "name": "stdout",
     "output_type": "stream",
     "text": [
      "5\n",
      "55\n",
      "1\n",
      "10\n"
     ]
    }
   ],
   "source": [
    "def sumnum(*args):\n",
    "    print(args[4])\n",
    "    return sum(args)\n",
    "print(sumnum(1,2,3,4,5,6,7,8,9,10))\n",
    "print(min(1,2,3,4,5,6,7,8,9,10))\n",
    "print(max(1,2,3,4,5,6,7,8,9,10))"
   ]
  },
  {
   "cell_type": "code",
   "execution_count": 102,
   "id": "42386ad1-7d4a-4e63-b90c-cfbe1ee5a09b",
   "metadata": {},
   "outputs": [
    {
     "name": "stdout",
     "output_type": "stream",
     "text": [
      "75\n",
      "[1, 3, 6, 7, 8, 10, 62, 75, 89, 94]\n"
     ]
    }
   ],
   "source": [
    "def sumnum(*args):\n",
    "    print(args[4])\n",
    "    return sorted(args)\n",
    "print(sumnum(1,62,3,94,75,6,7,8,89,10))"
   ]
  },
  {
   "cell_type": "code",
   "execution_count": 106,
   "id": "27260b94-3bf4-43e7-a399-d7cadc54be15",
   "metadata": {},
   "outputs": [
    {
     "name": "stdout",
     "output_type": "stream",
     "text": [
      "name:ganesh\n",
      "age:21\n",
      "cgpa:6.8\n"
     ]
    }
   ],
   "source": [
    "def info(**kwargs):\n",
    "    for key,value in kwargs.items():\n",
    "        print(f\"{key}:{value}\")\n",
    "info(name=\"ganesh\", age=21, cgpa=6.8)"
   ]
  },
  {
   "cell_type": "code",
   "execution_count": 118,
   "id": "1390face-c4d2-4149-b05b-7831836ddca3",
   "metadata": {},
   "outputs": [
    {
     "name": "stdout",
     "output_type": "stream",
     "text": [
      "name:ganesh\n",
      "age:21\n",
      "cgpa:6.8\n"
     ]
    }
   ],
   "source": [
    "def info(**kwargs):\n",
    "    for key,value in kwargs.items():\n",
    "        print(f\"{key}:{value}\")\n",
    "info(name=\"ganesh\", age=21, cgpa=6.8)"
   ]
  },
  {
   "cell_type": "code",
   "execution_count": 134,
   "id": "8b72e1a2-9ab3-409b-b1bb-65e1ab3e7d7a",
   "metadata": {},
   "outputs": [
    {
     "name": "stdout",
     "output_type": "stream",
     "text": [
      "values: dict_values(['ganesh', 21, 6.8])\n",
      "-----------------\n",
      "('name', 'ganesh')\n",
      "('age', 21)\n",
      "('cgpa', 6.8)\n"
     ]
    }
   ],
   "source": [
    "def info(**kwargs):\n",
    "    print(\"values:\",kwargs.values())\n",
    "    print(\"-----------------\")\n",
    "    for value in kwargs.items():\n",
    "        print(value)\n",
    "info(name=\"ganesh\", age=21, cgpa=6.8)"
   ]
  },
  {
   "cell_type": "code",
   "execution_count": null,
   "id": "cb9625b4-417f-4dda-b512-5f608b08a407",
   "metadata": {},
   "outputs": [],
   "source": [
    "'''recursions\n",
    "1. direct recursion - function calls itself\n",
    "2. indirect - function calling another function\n",
    "3. head= first rec call\n",
    "4.tail- last rec call\n",
    "5. nested- rec with - in cer\n",
    "6. tree-'''"
   ]
  },
  {
   "cell_type": "code",
   "execution_count": null,
   "id": "ed66c385-a2f5-41db-bd12-0459bbd5b000",
   "metadata": {},
   "outputs": [],
   "source": [
    "''' print 10 fibonacci number using direct recursion'''\n",
    "def rec():\n",
    "    if "
   ]
  }
 ],
 "metadata": {
  "kernelspec": {
   "display_name": "Python 3 (ipykernel)",
   "language": "python",
   "name": "python3"
  },
  "language_info": {
   "codemirror_mode": {
    "name": "ipython",
    "version": 3
   },
   "file_extension": ".py",
   "mimetype": "text/x-python",
   "name": "python",
   "nbconvert_exporter": "python",
   "pygments_lexer": "ipython3",
   "version": "3.12.7"
  }
 },
 "nbformat": 4,
 "nbformat_minor": 5
}
