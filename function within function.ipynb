{
 "cells": [
  {
   "cell_type": "code",
   "execution_count": null,
   "id": "82eacebb-a95e-4dd6-bf44-705004d35083",
   "metadata": {},
   "outputs": [],
   "source": [
    "#functions within functions\n",
    "#def outer():\n",
    "#    def inner():\n",
    "\n"
   ]
  },
  {
   "cell_type": "code",
   "execution_count": 19,
   "id": "b176ceaf-cdab-4339-a953-5503716ac610",
   "metadata": {},
   "outputs": [
    {
     "name": "stdout",
     "output_type": "stream",
     "text": [
      "this is an inner function .......\n",
      "this is an inner function ......\n"
     ]
    }
   ],
   "source": [
    "def outer():\n",
    "    print(\"this is an outer function .......\")\n",
    "    def inner():\n",
    "        print(\"this is an inner function ......\")\n",
    "    inner()\n",
    "outer()"
   ]
  },
  {
   "cell_type": "code",
   "execution_count": 37,
   "id": "ce0dc31d-92dd-4d5e-8bcf-58d5a3b7a319",
   "metadata": {},
   "outputs": [
    {
     "name": "stdin",
     "output_type": "stream",
     "text": [
      "enter a number: 2\n",
      "enter b number: 4\n"
     ]
    },
    {
     "name": "stdout",
     "output_type": "stream",
     "text": [
      "addition 6\n",
      "subract 8\n",
      "product 8\n"
     ]
    }
   ],
   "source": [
    "def cal(a,b):\n",
    "    def add():\n",
    "        return a+b\n",
    "    def sub():\n",
    "        return a*b\n",
    "    def mul():\n",
    "        return a*b\n",
    "    print(\"addition\", add())\n",
    "    print(\"subract\", sub())\n",
    "    print(\"product\", mul())\n",
    "a=int(input(\"enter a number:\"))\n",
    "b=int(input(\"enter b number:\"))\n",
    "cal(a,b)"
   ]
  },
  {
   "cell_type": "code",
   "execution_count": 57,
   "id": "c5f36598-c049-45e7-8302-add9c470cc08",
   "metadata": {},
   "outputs": [
    {
     "name": "stdout",
     "output_type": "stream",
     "text": [
      "22222\n",
      "3333\n"
     ]
    }
   ],
   "source": [
    "def mul_by(n): #call inner function x=5\n",
    "    def inner(x):   # X*2     X*3\n",
    "        return x*n\n",
    "    return inner\n",
    "times_2=mul_by(2) #n=2,\n",
    "times_3=mul_by(3 ) #n=3,\n",
    "print(times_2(5))\n",
    "print(times_3(4))"
   ]
  },
  {
   "cell_type": "code",
   "execution_count": 47,
   "id": "08fb4894-7573-4a6d-a88d-9e42f678d5c1",
   "metadata": {},
   "outputs": [
    {
     "name": "stdout",
     "output_type": "stream",
     "text": [
      "hello,ganesh❤️!!!!!\n"
     ]
    }
   ],
   "source": [
    "# set attribute in inner function.....\n",
    "def greet(text):\n",
    "    def inner(name):\n",
    "        return f\"{text},{name}!!!!!\"\n",
    "    return inner\n",
    "hi=greet('hello')\n",
    "print(hi('ganesh❤️'))"
   ]
  },
  {
   "cell_type": "code",
   "execution_count": 67,
   "id": "3677727a-13f5-4bd6-8217-ac1e8f0a2af8",
   "metadata": {},
   "outputs": [
    {
     "name": "stdout",
     "output_type": "stream",
     "text": [
      "hello, Mr.ganesh\n",
      "hello, Dr.ravi\n"
     ]
    }
   ],
   "source": [
    "def titled(title):\n",
    "    def greet(name):\n",
    "        return f\"hello, {title}{name}\"\n",
    "    return greet\n",
    "mr_greet= titled(\"Mr.\")\n",
    "dr_greet= titled(\"Dr.\")\n",
    "print(mr_greet(\"ganesh\"))\n",
    "print(dr_greet(\"ravi\"))\n"
   ]
  },
  {
   "cell_type": "code",
   "execution_count": 69,
   "id": "0f94878a-da99-4180-9fb0-28702c6d9632",
   "metadata": {},
   "outputs": [
    {
     "name": "stdout",
     "output_type": "stream",
     "text": [
      "x=  22\n",
      "locally 32\n",
      "x= 100\n",
      "latest value of y globally: 25\n",
      "globally 125\n"
     ]
    }
   ],
   "source": [
    "x= 100\n",
    "y=10\n",
    "def display():\n",
    "    x=22\n",
    "    print(\"x= \",x)\n",
    "    print(\"locally\",x+y)\n",
    "display()\n",
    "print(\"x=\",x)\n",
    "y=10\n",
    "y=25\n",
    "print(\"latest value of y globally:\",y)\n",
    "print(\"globally\",x+y)\n",
    "    \n",
    "    "
   ]
  },
  {
   "cell_type": "code",
   "execution_count": 85,
   "id": "c1db1d22-8420-4b7f-8329-37053955ec66",
   "metadata": {},
   "outputs": [
    {
     "name": "stdin",
     "output_type": "stream",
     "text": [
      "enter marks of a subject: 9\n"
     ]
    },
    {
     "name": "stdout",
     "output_type": "stream",
     "text": [
      "subject1 marks : 9\n"
     ]
    },
    {
     "name": "stdin",
     "output_type": "stream",
     "text": [
      "enter marks of a subject: 8\n"
     ]
    },
    {
     "name": "stdout",
     "output_type": "stream",
     "text": [
      "subject2 marks : 8\n"
     ]
    },
    {
     "name": "stdin",
     "output_type": "stream",
     "text": [
      "enter marks of a subject: 7\n"
     ]
    },
    {
     "name": "stdout",
     "output_type": "stream",
     "text": [
      "subject3 marks : 7\n"
     ]
    },
    {
     "name": "stdin",
     "output_type": "stream",
     "text": [
      "enter marks of a subject: 9\n"
     ]
    },
    {
     "name": "stdout",
     "output_type": "stream",
     "text": [
      "subject4 marks : 9\n"
     ]
    },
    {
     "name": "stdin",
     "output_type": "stream",
     "text": [
      "enter marks of a subject: 7\n"
     ]
    },
    {
     "name": "stdout",
     "output_type": "stream",
     "text": [
      "subject5 marks : 7\n"
     ]
    },
    {
     "name": "stdin",
     "output_type": "stream",
     "text": [
      "enter marks of a subject: 8\n"
     ]
    },
    {
     "name": "stdout",
     "output_type": "stream",
     "text": [
      "subject6 marks : 8\n",
      "total marks stored in global: 48\n",
      "average of total marks : 8.0\n",
      "percentage of total marks : 2.88\n"
     ]
    }
   ],
   "source": [
    "total=0\n",
    "def add_subject_marks():\n",
    "    global total\n",
    "    marks= int(input(\"enter marks of a subject:\"))\n",
    "    total+=marks\n",
    "    return marks\n",
    "print(\"subject1 marks :\",add_subject_marks() )\n",
    "print(\"subject2 marks :\",add_subject_marks() )\n",
    "print(\"subject3 marks :\",add_subject_marks() )\n",
    "print(\"subject4 marks :\",add_subject_marks() )\n",
    "print(\"subject5 marks :\",add_subject_marks() )\n",
    "print(\"subject6 marks :\",add_subject_marks() )\n",
    "print(\"total marks stored in global:\",total)\n",
    "print(\"average of total marks :\",total/6)\n",
    "print(\"percentage of total marks :\",(total/100)*6)"
   ]
  },
  {
   "cell_type": "code",
   "execution_count": 105,
   "id": "34c8f1f2-df45-47a4-a4a5-27b8668ca87f",
   "metadata": {},
   "outputs": [
    {
     "name": "stdin",
     "output_type": "stream",
     "text": [
      "enter marks for a sub : 10\n"
     ]
    },
    {
     "name": "stdout",
     "output_type": "stream",
     "text": [
      "sub1 marks : 10\n"
     ]
    },
    {
     "name": "stdin",
     "output_type": "stream",
     "text": [
      "enter marks for a sub : 9\n"
     ]
    },
    {
     "name": "stdout",
     "output_type": "stream",
     "text": [
      "sub2 marks : 9\n"
     ]
    },
    {
     "name": "stdin",
     "output_type": "stream",
     "text": [
      "enter marks for a sub : 10\n"
     ]
    },
    {
     "name": "stdout",
     "output_type": "stream",
     "text": [
      "sub3 marks : 10\n",
      "all sub marks [10, 9, 10]\n",
      "total marks 29\n",
      "avg 29.0\n"
     ]
    }
   ],
   "source": [
    "sub_marks=[]\n",
    "def add_sub_marks():\n",
    "    mark= int(input(\"enter marks for a sub :\"))\n",
    "    sub_marks.append(mark)\n",
    "    return mark\n",
    "print(\"sub1 marks :\",add_sub_marks() )\n",
    "print(\"sub2 marks :\",add_sub_marks() )\n",
    "print(\"sub3 marks :\",add_sub_marks() )\n",
    "print(\"all sub marks\", sub_marks)\n",
    "total=sum(sub_marks)\n",
    "l=len(sub_marks)\n",
    "avg= total/1\n",
    "print(\"total marks\",total)\n",
    "print(\"avg\",avg)\n"
   ]
  },
  {
   "cell_type": "code",
   "execution_count": null,
   "id": "b13b097b-b893-4274-a78c-6247617f8325",
   "metadata": {},
   "outputs": [],
   "source": []
  }
 ],
 "metadata": {
  "kernelspec": {
   "display_name": "Python 3 (ipykernel)",
   "language": "python",
   "name": "python3"
  },
  "language_info": {
   "codemirror_mode": {
    "name": "ipython",
    "version": 3
   },
   "file_extension": ".py",
   "mimetype": "text/x-python",
   "name": "python",
   "nbconvert_exporter": "python",
   "pygments_lexer": "ipython3",
   "version": "3.12.7"
  }
 },
 "nbformat": 4,
 "nbformat_minor": 5
}
