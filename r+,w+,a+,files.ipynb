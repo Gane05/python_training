{
 "cells": [
  {
   "cell_type": "code",
   "execution_count": null,
   "id": "eda4612b-efb5-4c89-8fa7-366cf71dd13b",
   "metadata": {},
   "outputs": [],
   "source": [
    "'''extensions\n",
    "  r+ -> file should exist/ overwrits existing content\n",
    "  w+ -> content clarity (refresh)\n",
    "  a+ -> its creates a file if exists , reading works onli after seek()\n",
    "       truncate() '''"
   ]
  },
  {
   "cell_type": "code",
   "execution_count": 3,
   "id": "eda99674-8105-487d-b650-9f4142150dca",
   "metadata": {},
   "outputs": [
    {
     "name": "stdout",
     "output_type": "stream",
     "text": [
      "latest data :\n",
      "my full name is ganesh mallavalli.\n",
      "\n"
     ]
    },
    {
     "name": "stdin",
     "output_type": "stream",
     "text": [
      "\n",
      " enter text to overwrite from begining... i am busy at now please leave......\n"
     ]
    },
    {
     "name": "stdout",
     "output_type": "stream",
     "text": [
      "\n",
      " file after writing by r+\n",
      "i am busy at now please leave......\n",
      "\n"
     ]
    }
   ],
   "source": [
    "filename= 'root.txt'\n",
    "with open(filename,'w') as f:\n",
    "    f.write(\"my full name is ganesh mallavalli.\\n\")\n",
    "with open(filename,'r+') as file:\n",
    "    print(\"latest data :\")\n",
    "    print(file.read())\n",
    "    file.seek(0)\n",
    "    userinput=input(\"\\n enter text to overwrite from begining...\")\n",
    "    file.write(userinput)\n",
    "    file.seek(0)\n",
    "    print(\"\\n file after writing by r+\")\n",
    "    print(file.read())"
   ]
  },
  {
   "cell_type": "code",
   "execution_count": 27,
   "id": "a3e644ae-3f0e-4d1d-8147-36d70fd7a4b0",
   "metadata": {},
   "outputs": [
    {
     "name": "stdin",
     "output_type": "stream",
     "text": [
      "enter any data..... tlioujbkl;\n"
     ]
    },
    {
     "name": "stdout",
     "output_type": "stream",
     "text": [
      "\n",
      " latest file content \n"
     ]
    },
    {
     "ename": "UnsupportedOperation",
     "evalue": "not readable",
     "output_type": "error",
     "traceback": [
      "\u001b[1;31m---------------------------------------------------------------------------\u001b[0m",
      "\u001b[1;31mUnsupportedOperation\u001b[0m                      Traceback (most recent call last)",
      "Cell \u001b[1;32mIn[27], line 6\u001b[0m\n\u001b[0;32m      4\u001b[0m file\u001b[38;5;241m.\u001b[39mseek(\u001b[38;5;241m0\u001b[39m)\n\u001b[0;32m      5\u001b[0m \u001b[38;5;28mprint\u001b[39m(\u001b[38;5;124m\"\u001b[39m\u001b[38;5;130;01m\\n\u001b[39;00m\u001b[38;5;124m latest file content \u001b[39m\u001b[38;5;124m\"\u001b[39m)\n\u001b[1;32m----> 6\u001b[0m \u001b[38;5;28mprint\u001b[39m(file\u001b[38;5;241m.\u001b[39mread())\n",
      "\u001b[1;31mUnsupportedOperation\u001b[0m: not readable"
     ]
    }
   ],
   "source": [
    "with open('line.txt','w') as file:\n",
    "    text= input(\"enter any data.....\")\n",
    "    file.write(text)\n",
    "    file.seek(0)\n",
    "    print(\"\\n latest file content \")\n",
    "    print(file.read())"
   ]
  },
  {
   "cell_type": "code",
   "execution_count": 17,
   "id": "4d609093-c9a1-4c34-8a53-9a7c87e5e64a",
   "metadata": {},
   "outputs": [
    {
     "name": "stdin",
     "output_type": "stream",
     "text": [
      "enter a line to append data  gjcjhfyukyugh\n"
     ]
    },
    {
     "name": "stdout",
     "output_type": "stream",
     "text": [
      "\n",
      " current content in the file \n",
      "hello\n",
      "hello\n",
      "gjcjhfyukyugh\n",
      "\n"
     ]
    }
   ],
   "source": [
    "with open('line.txt','a+') as file:\n",
    "    text= input(\"enter a line to append data \")\n",
    "    file.write(text+'\\n')\n",
    "    file.seek(0)\n",
    "    print(\"\\n current content in the file \")\n",
    "    print(file.read())"
   ]
  },
  {
   "cell_type": "code",
   "execution_count": null,
   "id": "7422630c-7734-43df-bad2-e92bca045f2b",
   "metadata": {},
   "outputs": [
    {
     "name": "stdin",
     "output_type": "stream",
     "text": [
      "enter filename with extension sample.txt\n"
     ]
    }
   ],
   "source": [
    "filename=input(\"enter filename with extension\")\n",
    "with open(filename,'r')as file:\n",
    "    text= file.read()\n",
    "    letter= input(\"enter a char to search frequency:\")\n",
    "    count=0\n",
    "    for char in text:\n",
    "        if char == letter:\n",
    "            count+=1\n",
    "print(letter, \"appears\", count, \"times in the file \")\n",
    " "
   ]
  },
  {
   "cell_type": "code",
   "execution_count": null,
   "id": "49d48192-d0ff-4c77-9131-3d8365f35c3b",
   "metadata": {},
   "outputs": [],
   "source": []
  }
 ],
 "metadata": {
  "kernelspec": {
   "display_name": "Python 3 (ipykernel)",
   "language": "python",
   "name": "python3"
  },
  "language_info": {
   "codemirror_mode": {
    "name": "ipython",
    "version": 3
   },
   "file_extension": ".py",
   "mimetype": "text/x-python",
   "name": "python",
   "nbconvert_exporter": "python",
   "pygments_lexer": "ipython3",
   "version": "3.12.7"
  }
 },
 "nbformat": 4,
 "nbformat_minor": 5
}
