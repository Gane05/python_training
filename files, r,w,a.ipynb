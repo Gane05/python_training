{
 "cells": [
  {
   "cell_type": "code",
   "execution_count": null,
   "id": "14a4e57a-ebdb-4a7f-a24d-7919c83d1fcf",
   "metadata": {},
   "outputs": [],
   "source": [
    "''' files:\n",
    " paths\n",
    " opening\n",
    " closing\n",
    " reading\n",
    " writing\n",
    " appending\n",
    "\n",
    "files:\n",
    "     ascii   : abC -   979867 :1) relative path 2) ablsute path\n",
    "     binary: \n",
    "opening:\n",
    "        userdefined=open(filename,mode of the file)\n",
    "r-read mode: reading the data of the file.\n",
    "w-write mode: writing in the file.\n",
    "a-append :added the data\n",
    "    with statement: \n",
    "                   with open(FM,Mode) as f:'''"
   ]
  },
  {
   "cell_type": "code",
   "execution_count": 16,
   "id": "ade9ae7e-e442-4e8f-a717-b909bfabc1c8",
   "metadata": {},
   "outputs": [
    {
     "name": "stdout",
     "output_type": "stream",
     "text": [
      "file data in sample.txt: hello student !!!! how are you\n"
     ]
    }
   ],
   "source": [
    "file= open('sample.txt','r')\n",
    "data= file.read()\n",
    "print(\"file data in sample.txt:\",data)\n",
    "file.close()"
   ]
  },
  {
   "cell_type": "code",
   "execution_count": 22,
   "id": "481b4ec0-a5bd-4bf8-b0aa-6b2bf47b15f2",
   "metadata": {},
   "outputs": [],
   "source": [
    "f=open('sample.txt','w')\n",
    "f.write(\"hi ravi how are you\")\n",
    "f.close()"
   ]
  },
  {
   "cell_type": "code",
   "execution_count": 24,
   "id": "fe8c86de-4642-4957-abd4-c856c19234a8",
   "metadata": {},
   "outputs": [],
   "source": [
    "f=open('sample.txt','a')\n",
    "f.write(\"hi ravi how are you and  what about your studies\")\n",
    "f.close()"
   ]
  },
  {
   "cell_type": "code",
   "execution_count": 28,
   "id": "e1122e72-4533-4d6e-8301-e81e1b32c851",
   "metadata": {},
   "outputs": [],
   "source": [
    "with open('root.txt','w') as vj:\n",
    "    vj.write(\"hello vijay....... how are you\")"
   ]
  },
  {
   "cell_type": "code",
   "execution_count": null,
   "id": "b9a8855d-66f6-4d6e-95b5-0f445a355492",
   "metadata": {},
   "outputs": [],
   "source": [
    "#read lines\n",
    "file= open('line.txt','r')\n",
    "print(\"1st line:\",file.readline())\n",
    "print(\"n- line:\",file.readlines())\n"
   ]
  },
  {
   "cell_type": "code",
   "execution_count": null,
   "id": "9dde991b-157a-40de-9805-662e3a54f785",
   "metadata": {},
   "outputs": [],
   "source": []
  }
 ],
 "metadata": {
  "kernelspec": {
   "display_name": "Python 3 (ipykernel)",
   "language": "python",
   "name": "python3"
  },
  "language_info": {
   "codemirror_mode": {
    "name": "ipython",
    "version": 3
   },
   "file_extension": ".py",
   "mimetype": "text/x-python",
   "name": "python",
   "nbconvert_exporter": "python",
   "pygments_lexer": "ipython3",
   "version": "3.12.7"
  }
 },
 "nbformat": 4,
 "nbformat_minor": 5
}
