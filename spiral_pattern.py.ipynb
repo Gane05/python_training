{
 "cells": [
  {
   "cell_type": "code",
   "execution_count": 7,
   "id": "055229bf-0c5a-45a3-88e9-4039b4a3a6d3",
   "metadata": {},
   "outputs": [
    {
     "name": "stdout",
     "output_type": "stream",
     "text": [
      "enter the size: 10\n"
     ]
    },
    {
     "name": "stdout",
     "output_type": "stream",
     "text": [
      "  1   2   3   4   5   6   7   8   9  10 \n",
      " 36  37  38  39  40  41  42  43  44  11 \n",
      " 35  64  65  66  67  68  69  70  45  12 \n",
      " 34  63  84  85  86  87  88  71  46  13 \n",
      " 33  62  83  96  97  98  89  72  47  14 \n",
      " 32  61  82  95 100  99  90  73  48  15 \n",
      " 31  60  81  94  93  92  91  74  49  16 \n",
      " 30  59  80  79  78  77  76  75  50  17 \n",
      " 29  58  57  56  55  54  53  52  51  18 \n",
      " 28  27  26  25  24  23  22  21  20  19 \n"
     ]
    }
   ],
   "source": [
    "n=int(input(\"enter the size:\"))\n",
    "matrix=[[0]*n for _ in range(n)]\n",
    "top, left=0,0\n",
    "right,bottom=n-1, n-1\n",
    "num=1\n",
    "while top<=bottom and left<=right:\n",
    "    for i in range(left, right+1):\n",
    "        matrix[top][i]=num\n",
    "        num+=1\n",
    "    top+=1\n",
    "    for i in range(top, bottom+1):\n",
    "        matrix[i][right]= num\n",
    "        num+=1\n",
    "    right-=1\n",
    "    for i in range(right, left-1, -1):\n",
    "        matrix[bottom][i]= num\n",
    "        num+=1\n",
    "    bottom-=1\n",
    "    for i in range(bottom, top-1, -1):\n",
    "        matrix[i][left]=num\n",
    "        num+=1\n",
    "    left+=1\n",
    "for row in matrix:\n",
    "    for val in row:\n",
    "        print(f\"{val:3}\",end=' ')\n",
    "    print()"
   ]
  },
  {
   "cell_type": "code",
   "execution_count": 9,
   "id": "39df8a9a-ef26-4c8c-8c15-621dc584d68c",
   "metadata": {},
   "outputs": [
    {
     "name": "stdout",
     "output_type": "stream",
     "text": [
      "1 2 3 4 5 10 15 20 25 24 23 22 21 16 11 6 7 8 9 14 19 18 17 12 13 "
     ]
    }
   ],
   "source": [
    "matrix=[[1,2,3,4,5], [6,7,8,9,10], [11,12,13,14,15], [16,17,18,19,20], [21,22,23,24,25]] \n",
    "rows= len(matrix)\n",
    "cols=len(matrix[0])\n",
    "\n",
    "top, left=0,0\n",
    "right,bottom= cols-1, rows-1\n",
    "while top<=bottom and left<=right:\n",
    "    for i in range(left, right+1):\n",
    "        print(matrix[top][i], end=' ')\n",
    "    top+=1\n",
    "    for i in range(top, bottom+1):\n",
    "        print(matrix[i][right], end=' ')\n",
    "    right-=1\n",
    "    for i in range(right, left-1, -1):\n",
    "        print(matrix[bottom][i], end=' ')\n",
    "    bottom-=1\n",
    "    for i in range(bottom, top-1, -1):\n",
    "        print(matrix[i][left], end=' ')\n",
    "    left+=1"
   ]
  },
  {
   "cell_type": "code",
   "execution_count": null,
   "id": "a593784e-3142-4163-b55f-080914df9dc9",
   "metadata": {},
   "outputs": [],
   "source": []
  }
 ],
 "metadata": {
  "kernelspec": {
   "display_name": "Python 3 (ipykernel)",
   "language": "python",
   "name": "python3"
  },
  "language_info": {
   "codemirror_mode": {
    "name": "ipython",
    "version": 3
   },
   "file_extension": ".py",
   "mimetype": "text/x-python",
   "name": "python",
   "nbconvert_exporter": "python",
   "pygments_lexer": "ipython3",
   "version": "3.12.7"
  }
 },
 "nbformat": 4,
 "nbformat_minor": 5
}
